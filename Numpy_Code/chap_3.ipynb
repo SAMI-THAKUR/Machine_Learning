{
 "cells": [
  {
   "cell_type": "code",
   "execution_count": 1,
   "id": "896aeb31-bcb4-416a-8817-c0fdf228f335",
   "metadata": {},
   "outputs": [
    {
     "name": "stdout",
     "output_type": "stream",
     "text": [
      "[ 1  4  9 16 25 36 49 64 81]\n",
      "[1. 2. 3. 4. 5. 6. 7. 8. 9.]\n",
      "[ 1  4  9 16 25 36 49 64 81]\n",
      "[2.71828183e+00 5.45981500e+01 8.10308393e+03 8.88611052e+06\n",
      " 7.20048993e+10 4.31123155e+15 1.90734657e+21 6.23514908e+27\n",
      " 1.50609731e+35]\n",
      "[0.         1.38629436 2.19722458 2.77258872 3.21887582 3.58351894\n",
      " 3.8918203  4.15888308 4.39444915]\n",
      "1\n",
      "81\n",
      "[-1 -1 -1 -1 -1 -1 -1  1  1]\n"
     ]
    }
   ],
   "source": [
    "import numpy as numpy\n",
    "\n",
    "l = [1, 4, 9, 16, 25, 36, 49, 64, 81]\n",
    "l2 = [-1, -4, -9, -16, -25, -36, -49, 64, 81]\n",
    "n = numpy.array(l)\n",
    "n2 = numpy.array(l2)\n",
    "\n",
    "print(n)\n",
    "\n",
    "# Square root of each element #\n",
    "print(numpy.sqrt(n))\n",
    "\n",
    "# Absolute value of each element #\n",
    "print(numpy.absolute(n2))  # --> returns positive value\n",
    "\n",
    "# Exponential of each element #\n",
    "print(numpy.exp(n))  # --> e^x\n",
    "\n",
    "# Logarithm of each element #\n",
    "print(numpy.log(n))  # --> ln(x)\n",
    "\n",
    "# Min/Max of each element #\n",
    "print(numpy.min(n))\n",
    "print(numpy.max(n))\n",
    "\n",
    "# Sign of each element #\n",
    "print(numpy.sign(n2)) # --> returns -1 if negative, 0 if 0, 1 if positive"
   ]
  },
  {
   "cell_type": "code",
   "execution_count": null,
   "id": "433c43a0-c212-4892-b80e-4de6e0ced4c0",
   "metadata": {},
   "outputs": [],
   "source": []
  }
 ],
 "metadata": {
  "kernelspec": {
   "display_name": "Python 3 (ipykernel)",
   "language": "python",
   "name": "python3"
  },
  "language_info": {
   "codemirror_mode": {
    "name": "ipython",
    "version": 3
   },
   "file_extension": ".py",
   "mimetype": "text/x-python",
   "name": "python",
   "nbconvert_exporter": "python",
   "pygments_lexer": "ipython3",
   "version": "3.12.0"
  }
 },
 "nbformat": 4,
 "nbformat_minor": 5
}
