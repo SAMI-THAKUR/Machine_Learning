{
 "cells": [
  {
   "cell_type": "code",
   "execution_count": 1,
   "id": "16b65a8d-24e3-4597-950d-857b381d3dfa",
   "metadata": {},
   "outputs": [],
   "source": [
    "import pandas as pd \n",
    "import pandasgui as gui"
   ]
  },
  {
   "cell_type": "code",
   "execution_count": 2,
   "id": "7731051a-ba26-4bdd-a445-91a41ca30c58",
   "metadata": {},
   "outputs": [],
   "source": [
    "url = 'https://drive.google.com/file/d/1Nk509mmhN5roEUaTHZ8VcVawE3ujJu_1/view?usp=drive_link'\n",
    "url = 'https://drive.google.com/uc?id='+url.split('/')[-2]\n",
    "house = pd.read_csv(url)"
   ]
  },
  {
   "cell_type": "code",
   "execution_count": 3,
   "id": "12646d54-4ef4-4981-9bc9-73b2e8ad1981",
   "metadata": {},
   "outputs": [
    {
     "name": "stderr",
     "output_type": "stream",
     "text": [
      "PandasGUI INFO — pandasgui.gui — Opening PandasGUI\n",
      "C:\\Users\\SAMI\\AppData\\Local\\Temp\\ipykernel_19992\\3925819512.py:1: FutureWarning: Series.__getitem__ treating keys as positions is deprecated. In a future version, integer keys will always be treated as labels (consistent with DataFrame behavior). To access a value by position, use `ser.iloc[pos]`\n",
      "  gui.show(ad)\n",
      "C:\\Users\\SAMI\\AppData\\Local\\Temp\\ipykernel_19992\\3925819512.py:1: FutureWarning: Series.__getitem__ treating keys as positions is deprecated. In a future version, integer keys will always be treated as labels (consistent with DataFrame behavior). To access a value by position, use `ser.iloc[pos]`\n",
      "  gui.show(ad)\n",
      "C:\\Users\\SAMI\\AppData\\Local\\Temp\\ipykernel_19992\\3925819512.py:1: FutureWarning:\n",
      "\n",
      "Series.__getitem__ treating keys as positions is deprecated. In a future version, integer keys will always be treated as labels (consistent with DataFrame behavior). To access a value by position, use `ser.iloc[pos]`\n",
      "\n",
      "C:\\Users\\SAMI\\AppData\\Local\\Temp\\ipykernel_19992\\3925819512.py:1: FutureWarning:\n",
      "\n",
      "Series.__getitem__ treating keys as positions is deprecated. In a future version, integer keys will always be treated as labels (consistent with DataFrame behavior). To access a value by position, use `ser.iloc[pos]`\n",
      "\n",
      "C:\\Users\\SAMI\\AppData\\Local\\Temp\\ipykernel_19992\\3925819512.py:1: FutureWarning:\n",
      "\n",
      "Series.__getitem__ treating keys as positions is deprecated. In a future version, integer keys will always be treated as labels (consistent with DataFrame behavior). To access a value by position, use `ser.iloc[pos]`\n",
      "\n",
      "C:\\Users\\SAMI\\AppData\\Local\\Temp\\ipykernel_19992\\3925819512.py:1: FutureWarning:\n",
      "\n",
      "Series.__getitem__ treating keys as positions is deprecated. In a future version, integer keys will always be treated as labels (consistent with DataFrame behavior). To access a value by position, use `ser.iloc[pos]`\n",
      "\n"
     ]
    },
    {
     "data": {
      "text/plain": [
       "<pandasgui.gui.PandasGui at 0x263b9ae1990>"
      ]
     },
     "execution_count": 3,
     "metadata": {},
     "output_type": "execute_result"
    }
   ],
   "source": [
    "gui.show(ad)"
   ]
  },
  {
   "cell_type": "code",
   "execution_count": null,
   "id": "37ca5d3f-68dc-45b9-b185-ff6ba7dfa7bc",
   "metadata": {},
   "outputs": [],
   "source": []
  }
 ],
 "metadata": {
  "kernelspec": {
   "display_name": "Python 3 (ipykernel)",
   "language": "python",
   "name": "python3"
  },
  "language_info": {
   "codemirror_mode": {
    "name": "ipython",
    "version": 3
   },
   "file_extension": ".py",
   "mimetype": "text/x-python",
   "name": "python",
   "nbconvert_exporter": "python",
   "pygments_lexer": "ipython3",
   "version": "3.10.0"
  }
 },
 "nbformat": 4,
 "nbformat_minor": 5
}
