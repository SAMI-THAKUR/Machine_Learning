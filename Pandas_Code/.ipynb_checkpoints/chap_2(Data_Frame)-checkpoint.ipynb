{
 "cells": [
  {
   "cell_type": "code",
   "execution_count": 1,
   "id": "88bba728-1a6b-42d6-b56c-83aec35ebcda",
   "metadata": {},
   "outputs": [],
   "source": [
    "import pandas as pd"
   ]
  },
  {
   "cell_type": "code",
   "execution_count": 2,
   "id": "dae20f4b-4fce-4789-a543-ca9f7863b327",
   "metadata": {},
   "outputs": [],
   "source": [
    "pd.set_option('display.max_columns', 85)\n",
    "pd.set_option('display.max_rows', 50)"
   ]
  },
  {
   "cell_type": "code",
   "execution_count": 3,
   "id": "d7aa5dcc-d5f5-47aa-945f-b075401e37fe",
   "metadata": {},
   "outputs": [],
   "source": [
    "people = {  \n",
    "    \"name\": [\"ABC\" , \"XYZ\" , \"123\" ],\n",
    "    \"mail\":[ \"gmail\" , \"hotmail\" , \"yahoo\" ]\n",
    "}\n",
    "teamMembers = [\n",
    "    { \"name\": \"Shreyash Bhute\", \"post\": \"Jr. Operations Officer\", \"mail\": \"2022.shreyash.bhute@ves.ac.in\" },\n",
    "  { \"name\": \"Arya Madhavi\", \"post\": \"Jr. Operations Officer\", \"mail\": \"2022.arya.madhavi@ves.ac.in\" },\n",
    "  { \"name\": \"Shubham Jha\", \"post\": \"Jr. Operations Officer\", \"mail\": \"D10C\" },\n",
    "  { \"name\": \"Shravani Patil\", \"post\": \"Jr. Operations Officer\", \"mail\": \"2022.shravani.patil@ves.ac.in\" },\n",
    "  { \"name\": \"Sarthak Harade\", \"post\": \"Jr. Operations Officer\", \"mail\": \"2022.sarthak.harade@ves.ac.in\" },\n",
    "  { \"name\": \"T. Jennifer Cheriyan\", \"post\": \"Jr. Operations Officer\", \"mail\": \"2022.jennifer.thozhuvathinkal@ves.ac.in\" },\n",
    "  { \"name\": \"Nimish Chug\", \"post\": \"Jr. Operations Officer\", \"mail\": \"2022.nimish.chug@ves.ac.in\" },\n",
    "  { \"name\": \"Nikunj Pal\", \"post\": \"Jr. Operations Officer\", \"mail\": \"2022.nikunj.pal@ves.ac.in\" },\n",
    "  { \"name\": \"Surel Sanap\", \"post\": \"Jr. Public Relations Officer\", \"mail\": \"2022.surel.sanap@ves.ac.in\" },\n",
    "  { \"name\": \"Simran Godhwani\", \"post\": \"Jr. Public Relations Officer\", \"mail\": \"2022.simran.godhwani@ves.ac.in\" },\n",
    "  { \"name\": \"Taniya Vallecha\", \"post\": \"Jr. Public Relations Officer\", \"mail\": \"2022.taniya.vallecha@ves.ac.in\" },\n",
    "  { \"name\": \"Rohit Makattil\", \"post\": \"Jr. Public Relations Officer\", \"mail\": \"2022.rohit.makattil@ves.ac.in\" },\n",
    "  { \"name\": \"Prathmesh Palve\", \"post\": \"Jr. Public Relations Officer\", \"mail\": \"2022.prathamesh.palve@ves.ac.in\" },\n",
    "  { \"name\": \"Anushka Nilesh Shahane\", \"post\": \"Jr. Public Relations Officer\", \"mail\": \"2022.anushka.shahane@ves.ac.in\" },\n",
    "  { \"name\": \"Shravani Sawant\", \"post\": \"Jr. Public Relations Officer\", \"mail\": \"2022.shravani.sawant@ves.ac.in\" },\n",
    "  { \"name\": \"Aditya Kumar\", \"post\": \"Jr. Web Editor\", \"mail\": \"2022.aditya.sampathkumar@ves.ac.in\" },\n",
    "  { \"name\": \"Karan Bhatia\", \"post\": \"Jr. Web Editor\", \"mail\": \"2022.karan.bhatia@ves.ac.in\" },\n",
    "  { \"name\": \"Abhijeet Pandey\", \"post\": \"Jr. Web Editor\", \"mail\": \"\" },\n",
    "  { \"name\": \"Ayush Bohra\", \"post\": \"Jr. Web Editor\", \"mail\": \"2022.ayush.bohra@ves.ac.in\" },\n",
    "  { \"name\": \"Prajjwal Pandey\", \"post\": \"Jr. Web Editor\", \"mail\": \"2022.prajjwal.pandey@ves.ac.in\" },\n",
    "  { \"name\": \"Sami Thakur\", \"post\": \"Jr. Technical Officer\", \"mail\": \"2022.sami.thakur@ves.ac.in\" },\n",
    "  { \"name\": \"Sagar Rajak\", \"post\": \"Jr. Technical Officer\", \"mail\": \"2022.sagar.rajak@ves.ac.in\" },\n",
    "  { \"name\": \"Aadil Nasir Shah\", \"post\": \"Jr. Technical Officer\", \"mail\": \"2022.aadil.shah@ves.ac.in\" },\n",
    "  { \"name\": \"Vedika Walhe\", \"post\": \"Jr. Technical Officer\", \"mail\": \"2022.vedika.walhe@ves.ac.in\" },\n",
    "  { \"name\": \"Garv Chawla\", \"post\": \"Jr. Technical Officer\", \"mail\": \"2022.garv.chawla@ves.ac.in\" },\n",
    "  { \"name\": \"Anish Paresh Padhye\", \"post\": \"Jr. Editor\", \"mail\": \"2022.anish.padhye@ves.ac.in\" },\n",
    "  { \"name\": \"Simran Karamchandani\", \"post\": \"Jr. Editor\", \"mail\": \"2022.simran.karamchandani@ves.ac.in\" },\n",
    "  { \"name\": \"Aryan Singh\", \"post\": \"Jr. Editor\", \"mail\": \"2022.aryan.singh@ves.ac.in\" },\n",
    "]\n",
    "\n"
   ]
  },
  {
   "cell_type": "code",
   "execution_count": 4,
   "id": "bab1f1ea-0617-482d-95f7-df9cd9f20fda",
   "metadata": {},
   "outputs": [
    {
     "data": {
      "text/plain": [
       "['gmail', 'hotmail', 'yahoo']"
      ]
     },
     "execution_count": 4,
     "metadata": {},
     "output_type": "execute_result"
    }
   ],
   "source": [
    "people[\"mail\"]"
   ]
  },
  {
   "cell_type": "code",
   "execution_count": 5,
   "id": "a51d3b0a-992f-4fb0-b5ba-d8507277f0d7",
   "metadata": {},
   "outputs": [],
   "source": [
    "P = pd.DataFrame(people)\n",
    "S = pd.DataFrame(teamMembers)"
   ]
  },
  {
   "cell_type": "code",
   "execution_count": 6,
   "id": "72bdc839-86c8-4408-b41c-9d8d3e503ac7",
   "metadata": {},
   "outputs": [
    {
     "data": {
      "text/html": [
       "<div>\n",
       "<style scoped>\n",
       "    .dataframe tbody tr th:only-of-type {\n",
       "        vertical-align: middle;\n",
       "    }\n",
       "\n",
       "    .dataframe tbody tr th {\n",
       "        vertical-align: top;\n",
       "    }\n",
       "\n",
       "    .dataframe thead th {\n",
       "        text-align: right;\n",
       "    }\n",
       "</style>\n",
       "<table border=\"1\" class=\"dataframe\">\n",
       "  <thead>\n",
       "    <tr style=\"text-align: right;\">\n",
       "      <th></th>\n",
       "      <th>post</th>\n",
       "      <th>name</th>\n",
       "    </tr>\n",
       "  </thead>\n",
       "  <tbody>\n",
       "    <tr>\n",
       "      <th>0</th>\n",
       "      <td>Jr. Operations Officer</td>\n",
       "      <td>Shreyash Bhute</td>\n",
       "    </tr>\n",
       "    <tr>\n",
       "      <th>1</th>\n",
       "      <td>Jr. Operations Officer</td>\n",
       "      <td>Arya Madhavi</td>\n",
       "    </tr>\n",
       "    <tr>\n",
       "      <th>2</th>\n",
       "      <td>Jr. Operations Officer</td>\n",
       "      <td>Shubham Jha</td>\n",
       "    </tr>\n",
       "    <tr>\n",
       "      <th>3</th>\n",
       "      <td>Jr. Operations Officer</td>\n",
       "      <td>Shravani Patil</td>\n",
       "    </tr>\n",
       "    <tr>\n",
       "      <th>4</th>\n",
       "      <td>Jr. Operations Officer</td>\n",
       "      <td>Sarthak Harade</td>\n",
       "    </tr>\n",
       "    <tr>\n",
       "      <th>5</th>\n",
       "      <td>Jr. Operations Officer</td>\n",
       "      <td>T. Jennifer Cheriyan</td>\n",
       "    </tr>\n",
       "    <tr>\n",
       "      <th>6</th>\n",
       "      <td>Jr. Operations Officer</td>\n",
       "      <td>Nimish Chug</td>\n",
       "    </tr>\n",
       "    <tr>\n",
       "      <th>7</th>\n",
       "      <td>Jr. Operations Officer</td>\n",
       "      <td>Nikunj Pal</td>\n",
       "    </tr>\n",
       "    <tr>\n",
       "      <th>8</th>\n",
       "      <td>Jr. Public Relations Officer</td>\n",
       "      <td>Surel Sanap</td>\n",
       "    </tr>\n",
       "    <tr>\n",
       "      <th>9</th>\n",
       "      <td>Jr. Public Relations Officer</td>\n",
       "      <td>Simran Godhwani</td>\n",
       "    </tr>\n",
       "    <tr>\n",
       "      <th>10</th>\n",
       "      <td>Jr. Public Relations Officer</td>\n",
       "      <td>Taniya Vallecha</td>\n",
       "    </tr>\n",
       "    <tr>\n",
       "      <th>11</th>\n",
       "      <td>Jr. Public Relations Officer</td>\n",
       "      <td>Rohit Makattil</td>\n",
       "    </tr>\n",
       "    <tr>\n",
       "      <th>12</th>\n",
       "      <td>Jr. Public Relations Officer</td>\n",
       "      <td>Prathmesh Palve</td>\n",
       "    </tr>\n",
       "    <tr>\n",
       "      <th>13</th>\n",
       "      <td>Jr. Public Relations Officer</td>\n",
       "      <td>Anushka Nilesh Shahane</td>\n",
       "    </tr>\n",
       "    <tr>\n",
       "      <th>14</th>\n",
       "      <td>Jr. Public Relations Officer</td>\n",
       "      <td>Shravani Sawant</td>\n",
       "    </tr>\n",
       "    <tr>\n",
       "      <th>15</th>\n",
       "      <td>Jr. Web Editor</td>\n",
       "      <td>Aditya Kumar</td>\n",
       "    </tr>\n",
       "    <tr>\n",
       "      <th>16</th>\n",
       "      <td>Jr. Web Editor</td>\n",
       "      <td>Karan Bhatia</td>\n",
       "    </tr>\n",
       "    <tr>\n",
       "      <th>17</th>\n",
       "      <td>Jr. Web Editor</td>\n",
       "      <td>Abhijeet Pandey</td>\n",
       "    </tr>\n",
       "    <tr>\n",
       "      <th>18</th>\n",
       "      <td>Jr. Web Editor</td>\n",
       "      <td>Ayush Bohra</td>\n",
       "    </tr>\n",
       "    <tr>\n",
       "      <th>19</th>\n",
       "      <td>Jr. Web Editor</td>\n",
       "      <td>Prajjwal Pandey</td>\n",
       "    </tr>\n",
       "    <tr>\n",
       "      <th>20</th>\n",
       "      <td>Jr. Technical Officer</td>\n",
       "      <td>Sami Thakur</td>\n",
       "    </tr>\n",
       "    <tr>\n",
       "      <th>21</th>\n",
       "      <td>Jr. Technical Officer</td>\n",
       "      <td>Sagar Rajak</td>\n",
       "    </tr>\n",
       "    <tr>\n",
       "      <th>22</th>\n",
       "      <td>Jr. Technical Officer</td>\n",
       "      <td>Aadil Nasir Shah</td>\n",
       "    </tr>\n",
       "    <tr>\n",
       "      <th>23</th>\n",
       "      <td>Jr. Technical Officer</td>\n",
       "      <td>Vedika Walhe</td>\n",
       "    </tr>\n",
       "    <tr>\n",
       "      <th>24</th>\n",
       "      <td>Jr. Technical Officer</td>\n",
       "      <td>Garv Chawla</td>\n",
       "    </tr>\n",
       "    <tr>\n",
       "      <th>25</th>\n",
       "      <td>Jr. Editor</td>\n",
       "      <td>Anish Paresh Padhye</td>\n",
       "    </tr>\n",
       "    <tr>\n",
       "      <th>26</th>\n",
       "      <td>Jr. Editor</td>\n",
       "      <td>Simran Karamchandani</td>\n",
       "    </tr>\n",
       "    <tr>\n",
       "      <th>27</th>\n",
       "      <td>Jr. Editor</td>\n",
       "      <td>Aryan Singh</td>\n",
       "    </tr>\n",
       "  </tbody>\n",
       "</table>\n",
       "</div>"
      ],
      "text/plain": [
       "                            post                    name\n",
       "0         Jr. Operations Officer          Shreyash Bhute\n",
       "1         Jr. Operations Officer            Arya Madhavi\n",
       "2         Jr. Operations Officer             Shubham Jha\n",
       "3         Jr. Operations Officer          Shravani Patil\n",
       "4         Jr. Operations Officer          Sarthak Harade\n",
       "5         Jr. Operations Officer    T. Jennifer Cheriyan\n",
       "6         Jr. Operations Officer             Nimish Chug\n",
       "7         Jr. Operations Officer              Nikunj Pal\n",
       "8   Jr. Public Relations Officer             Surel Sanap\n",
       "9   Jr. Public Relations Officer         Simran Godhwani\n",
       "10  Jr. Public Relations Officer         Taniya Vallecha\n",
       "11  Jr. Public Relations Officer          Rohit Makattil\n",
       "12  Jr. Public Relations Officer         Prathmesh Palve\n",
       "13  Jr. Public Relations Officer  Anushka Nilesh Shahane\n",
       "14  Jr. Public Relations Officer         Shravani Sawant\n",
       "15                Jr. Web Editor            Aditya Kumar\n",
       "16                Jr. Web Editor            Karan Bhatia\n",
       "17                Jr. Web Editor         Abhijeet Pandey\n",
       "18                Jr. Web Editor             Ayush Bohra\n",
       "19                Jr. Web Editor         Prajjwal Pandey\n",
       "20         Jr. Technical Officer             Sami Thakur\n",
       "21         Jr. Technical Officer             Sagar Rajak\n",
       "22         Jr. Technical Officer        Aadil Nasir Shah\n",
       "23         Jr. Technical Officer            Vedika Walhe\n",
       "24         Jr. Technical Officer             Garv Chawla\n",
       "25                    Jr. Editor     Anish Paresh Padhye\n",
       "26                    Jr. Editor    Simran Karamchandani\n",
       "27                    Jr. Editor             Aryan Singh"
      ]
     },
     "execution_count": 6,
     "metadata": {},
     "output_type": "execute_result"
    }
   ],
   "source": [
    "S[[\"name\",\"post\"]][0:]\n",
    "S.loc[0:,[\"post\",\"name\"]]\n",
    "# S.columns"
   ]
  },
  {
   "cell_type": "code",
   "execution_count": 7,
   "id": "52ce763a-6ad0-4846-b978-0e2d416d7797",
   "metadata": {},
   "outputs": [
    {
     "data": {
      "text/plain": [
       "0    ABC\n",
       "1    XYZ\n",
       "2    123\n",
       "Name: name, dtype: object"
      ]
     },
     "execution_count": 7,
     "metadata": {},
     "output_type": "execute_result"
    }
   ],
   "source": [
    "P[\"name\"]"
   ]
  },
  {
   "cell_type": "code",
   "execution_count": 8,
   "id": "b7a94a9a-1c6f-4bd7-8529-2afbba852960",
   "metadata": {},
   "outputs": [
    {
     "data": {
      "text/plain": [
       "0    Jr. Operations Officer\n",
       "1    Jr. Operations Officer\n",
       "Name: post, dtype: object"
      ]
     },
     "execution_count": 8,
     "metadata": {},
     "output_type": "execute_result"
    }
   ],
   "source": [
    "# iloc uses integers only to access elem #\n",
    "S.iloc[0]\n",
    "S.iloc[[0,1],1]"
   ]
  },
  {
   "cell_type": "code",
   "execution_count": 9,
   "id": "85424ec0-c8ec-4fea-a86a-3b9dbd6b19d9",
   "metadata": {},
   "outputs": [
    {
     "data": {
      "text/html": [
       "<div>\n",
       "<style scoped>\n",
       "    .dataframe tbody tr th:only-of-type {\n",
       "        vertical-align: middle;\n",
       "    }\n",
       "\n",
       "    .dataframe tbody tr th {\n",
       "        vertical-align: top;\n",
       "    }\n",
       "\n",
       "    .dataframe thead th {\n",
       "        text-align: right;\n",
       "    }\n",
       "</style>\n",
       "<table border=\"1\" class=\"dataframe\">\n",
       "  <thead>\n",
       "    <tr style=\"text-align: right;\">\n",
       "      <th></th>\n",
       "      <th>post</th>\n",
       "      <th>name</th>\n",
       "    </tr>\n",
       "  </thead>\n",
       "  <tbody>\n",
       "    <tr>\n",
       "      <th>0</th>\n",
       "      <td>Jr. Operations Officer</td>\n",
       "      <td>Shreyash Bhute</td>\n",
       "    </tr>\n",
       "    <tr>\n",
       "      <th>1</th>\n",
       "      <td>Jr. Operations Officer</td>\n",
       "      <td>Arya Madhavi</td>\n",
       "    </tr>\n",
       "  </tbody>\n",
       "</table>\n",
       "</div>"
      ],
      "text/plain": [
       "                     post            name\n",
       "0  Jr. Operations Officer  Shreyash Bhute\n",
       "1  Jr. Operations Officer    Arya Madhavi"
      ]
     },
     "execution_count": 9,
     "metadata": {},
     "output_type": "execute_result"
    }
   ],
   "source": [
    "# loc uses itegers and labels both to access elem #\n",
    "S.loc[[0,1], [\"post\",\"name\"]]"
   ]
  },
  {
   "cell_type": "code",
   "execution_count": 10,
   "id": "0a8df06f-e605-4a2c-841f-1da8fdc1cb3b",
   "metadata": {},
   "outputs": [
    {
     "data": {
      "text/plain": [
       "pandas.core.frame.DataFrame"
      ]
     },
     "execution_count": 10,
     "metadata": {},
     "output_type": "execute_result"
    }
   ],
   "source": [
    "type(S.loc[[0], [\"post\",\"name\"]])"
   ]
  },
  {
   "cell_type": "code",
   "execution_count": 11,
   "id": "c640ccdc-a4ee-44f6-9715-a1787da9f95b",
   "metadata": {},
   "outputs": [
    {
     "data": {
      "text/plain": [
       "post\n",
       "Jr. Operations Officer          8\n",
       "Jr. Public Relations Officer    7\n",
       "Jr. Web Editor                  5\n",
       "Jr. Technical Officer           5\n",
       "Jr. Editor                      3\n",
       "Name: count, dtype: int64"
      ]
     },
     "execution_count": 11,
     "metadata": {},
     "output_type": "execute_result"
    }
   ],
   "source": [
    "S[\"post\"].value_counts()"
   ]
  },
  {
   "cell_type": "code",
   "execution_count": 12,
   "id": "681b5a57-3ad2-4a2a-8d0d-fc6790fcea88",
   "metadata": {},
   "outputs": [],
   "source": [
    "S.set_index(\"mail\" , inplace = True)"
   ]
  },
  {
   "cell_type": "code",
   "execution_count": 13,
   "id": "4a7da13b-498f-46f3-87da-737e846dbe53",
   "metadata": {},
   "outputs": [
    {
     "data": {
      "text/plain": [
       "post\n",
       "Jr. Operations Officer          8\n",
       "Jr. Public Relations Officer    7\n",
       "Jr. Web Editor                  5\n",
       "Jr. Technical Officer           1\n",
       "Name: count, dtype: int64"
      ]
     },
     "execution_count": 13,
     "metadata": {},
     "output_type": "execute_result"
    }
   ],
   "source": [
    "# new[\"2022.shreyash.bhute@ves.ac.in\":\"2022.sami.thakur@ves.ac.in\"]\n",
    "S[\"2022.shreyash.bhute@ves.ac.in\":\"2022.sami.thakur@ves.ac.in\"][\"post\"].value_counts()\n",
    "S.loc[\"2022.shreyash.bhute@ves.ac.in\":\"2022.sami.thakur@ves.ac.in\", \"post\"].value_counts()\n",
    "# S.index"
   ]
  },
  {
   "cell_type": "code",
   "execution_count": 14,
   "id": "c92ac7ef-5db2-43f9-8892-5f67ed07d7f2",
   "metadata": {},
   "outputs": [],
   "source": [
    "# S.reset_index(inplace = True)"
   ]
  },
  {
   "cell_type": "code",
   "execution_count": 16,
   "id": "e6ce3da3-1e34-43a7-a837-17df9ca21e4e",
   "metadata": {},
   "outputs": [
    {
     "data": {
      "text/html": [
       "<div>\n",
       "<style scoped>\n",
       "    .dataframe tbody tr th:only-of-type {\n",
       "        vertical-align: middle;\n",
       "    }\n",
       "\n",
       "    .dataframe tbody tr th {\n",
       "        vertical-align: top;\n",
       "    }\n",
       "\n",
       "    .dataframe thead th {\n",
       "        text-align: right;\n",
       "    }\n",
       "</style>\n",
       "<table border=\"1\" class=\"dataframe\">\n",
       "  <thead>\n",
       "    <tr style=\"text-align: right;\">\n",
       "      <th></th>\n",
       "      <th>name</th>\n",
       "      <th>post</th>\n",
       "    </tr>\n",
       "    <tr>\n",
       "      <th>mail</th>\n",
       "      <th></th>\n",
       "      <th></th>\n",
       "    </tr>\n",
       "  </thead>\n",
       "  <tbody>\n",
       "    <tr>\n",
       "      <th>2022.shreyash.bhute@ves.ac.in</th>\n",
       "      <td>Shreyash Bhute</td>\n",
       "      <td>Jr. Operations Officer</td>\n",
       "    </tr>\n",
       "    <tr>\n",
       "      <th>2022.arya.madhavi@ves.ac.in</th>\n",
       "      <td>Arya Madhavi</td>\n",
       "      <td>Jr. Operations Officer</td>\n",
       "    </tr>\n",
       "    <tr>\n",
       "      <th>D10C</th>\n",
       "      <td>Shubham Jha</td>\n",
       "      <td>Jr. Operations Officer</td>\n",
       "    </tr>\n",
       "    <tr>\n",
       "      <th>2022.shravani.patil@ves.ac.in</th>\n",
       "      <td>Shravani Patil</td>\n",
       "      <td>Jr. Operations Officer</td>\n",
       "    </tr>\n",
       "  </tbody>\n",
       "</table>\n",
       "</div>"
      ],
      "text/plain": [
       "                                         name                    post\n",
       "mail                                                                 \n",
       "2022.shreyash.bhute@ves.ac.in  Shreyash Bhute  Jr. Operations Officer\n",
       "2022.arya.madhavi@ves.ac.in      Arya Madhavi  Jr. Operations Officer\n",
       "D10C                              Shubham Jha  Jr. Operations Officer\n",
       "2022.shravani.patil@ves.ac.in  Shravani Patil  Jr. Operations Officer"
      ]
     },
     "execution_count": 16,
     "metadata": {},
     "output_type": "execute_result"
    }
   ],
   "source": [
    "S.iloc[0:4 , 0:]"
   ]
  },
  {
   "cell_type": "code",
   "execution_count": 21,
   "id": "4f4b9b88-c16c-4b0a-b63d-6e4513e42d75",
   "metadata": {},
   "outputs": [
    {
     "data": {
      "text/plain": [
       "mail\n",
       "2022.shreyash.bhute@ves.ac.in                      Shreyash Bhute\n",
       "2022.arya.madhavi@ves.ac.in                          Arya Madhavi\n",
       "D10C                                                  Shubham Jha\n",
       "2022.shravani.patil@ves.ac.in                      Shravani Patil\n",
       "2022.sarthak.harade@ves.ac.in                      Sarthak Harade\n",
       "2022.jennifer.thozhuvathinkal@ves.ac.in      T. Jennifer Cheriyan\n",
       "2022.nimish.chug@ves.ac.in                            Nimish Chug\n",
       "2022.nikunj.pal@ves.ac.in                              Nikunj Pal\n",
       "2022.surel.sanap@ves.ac.in                            Surel Sanap\n",
       "2022.simran.godhwani@ves.ac.in                    Simran Godhwani\n",
       "2022.taniya.vallecha@ves.ac.in                    Taniya Vallecha\n",
       "2022.rohit.makattil@ves.ac.in                      Rohit Makattil\n",
       "2022.prathamesh.palve@ves.ac.in                   Prathmesh Palve\n",
       "2022.anushka.shahane@ves.ac.in             Anushka Nilesh Shahane\n",
       "2022.shravani.sawant@ves.ac.in                    Shravani Sawant\n",
       "2022.aditya.sampathkumar@ves.ac.in                   Aditya Kumar\n",
       "2022.karan.bhatia@ves.ac.in                          Karan Bhatia\n",
       "                                                  Abhijeet Pandey\n",
       "2022.ayush.bohra@ves.ac.in                            Ayush Bohra\n",
       "2022.prajjwal.pandey@ves.ac.in                    Prajjwal Pandey\n",
       "2022.sami.thakur@ves.ac.in                            Sami Thakur\n",
       "2022.sagar.rajak@ves.ac.in                            Sagar Rajak\n",
       "2022.aadil.shah@ves.ac.in                        Aadil Nasir Shah\n",
       "2022.vedika.walhe@ves.ac.in                          Vedika Walhe\n",
       "2022.garv.chawla@ves.ac.in                            Garv Chawla\n",
       "2022.anish.padhye@ves.ac.in                   Anish Paresh Padhye\n",
       "2022.simran.karamchandani@ves.ac.in          Simran Karamchandani\n",
       "2022.aryan.singh@ves.ac.in                            Aryan Singh\n",
       "Name: name, dtype: object"
      ]
     },
     "execution_count": 21,
     "metadata": {},
     "output_type": "execute_result"
    }
   ],
   "source": [
    "S.loc[\"2022.shreyash.bhute@ves.ac.in\": , \"name\"]"
   ]
  },
  {
   "cell_type": "code",
   "execution_count": null,
   "id": "972b9fcd-468b-4db2-95b7-f3c5cc8d4b5e",
   "metadata": {},
   "outputs": [],
   "source": []
  }
 ],
 "metadata": {
  "kernelspec": {
   "display_name": "Python 3 (ipykernel)",
   "language": "python",
   "name": "python3"
  },
  "language_info": {
   "codemirror_mode": {
    "name": "ipython",
    "version": 3
   },
   "file_extension": ".py",
   "mimetype": "text/x-python",
   "name": "python",
   "nbconvert_exporter": "python",
   "pygments_lexer": "ipython3",
   "version": "3.12.0"
  }
 },
 "nbformat": 4,
 "nbformat_minor": 5
}
