{
 "cells": [
  {
   "cell_type": "code",
   "execution_count": 1,
   "id": "dbcdfe00-8db0-41d6-80ea-4c8e0050fef1",
   "metadata": {},
   "outputs": [],
   "source": [
    "import numpy as np \n",
    "import pandas as pd \n",
    "import matplotlib.pyplot as plt\n",
    "import seaborn as sns "
   ]
  },
  {
   "cell_type": "code",
   "execution_count": 2,
   "id": "30512afc-1e8a-407f-b127-75c120bb9fdd",
   "metadata": {},
   "outputs": [],
   "source": [
    "url=\"https://drive.google.com/file/d/1VD06DjyGegNAWdJxFqKW-BtNsSbZsbez/view?usp=drive_link\"\n",
    "url='https://drive.google.com/uc?id=' + url.split('/')[-2]\n",
    "ad = pd.read_csv(url)"
   ]
  },
  {
   "cell_type": "code",
   "execution_count": 3,
   "id": "c424540b-028a-4db3-af82-3714e0058122",
   "metadata": {},
   "outputs": [],
   "source": [
    "X = ad.drop('sales' , axis=1)"
   ]
  },
  {
   "cell_type": "code",
   "execution_count": 4,
   "id": "8107638a-bf9e-41b3-8955-95fc4e09966b",
   "metadata": {},
   "outputs": [],
   "source": [
    "y = ad['sales']"
   ]
  },
  {
   "cell_type": "code",
   "execution_count": 5,
   "id": "d3c39f08-08ce-42d1-9513-98ebcdafd72c",
   "metadata": {},
   "outputs": [],
   "source": [
    "from sklearn.preprocessing import PolynomialFeatures\n",
    "from sklearn.linear_model import LinearRegression\n",
    "from sklearn.metrics import mean_absolute_error,mean_squared_error    \n",
    "from sklearn.model_selection import train_test_split"
   ]
  },
  {
   "cell_type": "markdown",
   "id": "5a2316eb-8253-466b-ac32-001247fa4927",
   "metadata": {},
   "source": [
    "<h2><mark>Linear Regression</mark></h2>"
   ]
  },
  {
   "cell_type": "code",
   "execution_count": 6,
   "id": "8cab6d68-3e5d-4c6c-b1af-52e57829e90c",
   "metadata": {},
   "outputs": [],
   "source": [
    "model = LinearRegression()"
   ]
  },
  {
   "cell_type": "markdown",
   "id": "4bcbe36d-6610-4d3b-acf9-0ef2f231a438",
   "metadata": {},
   "source": [
    "<h2><mark>Polynomial Regression</mark></h2>"
   ]
  },
  {
   "cell_type": "code",
   "execution_count": 7,
   "id": "fc1ecaab-5ad5-4cb5-af1a-768b89fc6500",
   "metadata": {},
   "outputs": [],
   "source": [
    "polynomial_converter = PolynomialFeatures(degree=3 , include_bias=False)"
   ]
  },
  {
   "cell_type": "markdown",
   "id": "fe5cb3ae-2176-4aee-91dd-5c075ff66efe",
   "metadata": {},
   "source": [
    "<h3>Feature Engineering Converting data to polynomial feature</h3>"
   ]
  },
  {
   "cell_type": "code",
   "execution_count": 8,
   "id": "35f53a73-20f1-4996-a7e0-b0b57929a8bb",
   "metadata": {},
   "outputs": [],
   "source": [
    "X = polynomial_converter.fit_transform(X)"
   ]
  },
  {
   "cell_type": "code",
   "execution_count": 9,
   "id": "e2dc0c34-74e4-4cb0-b004-28da5724cf0c",
   "metadata": {},
   "outputs": [],
   "source": [
    "X_train, X_test, y_train, y_test = train_test_split(X, y, test_size=0.33, random_state=101)"
   ]
  },
  {
   "cell_type": "code",
   "execution_count": 10,
   "id": "cb35038e-5ecd-4102-ac22-9d0ccbd080db",
   "metadata": {},
   "outputs": [
    {
     "data": {
      "text/html": [
       "<style>#sk-container-id-1 {color: black;}#sk-container-id-1 pre{padding: 0;}#sk-container-id-1 div.sk-toggleable {background-color: white;}#sk-container-id-1 label.sk-toggleable__label {cursor: pointer;display: block;width: 100%;margin-bottom: 0;padding: 0.3em;box-sizing: border-box;text-align: center;}#sk-container-id-1 label.sk-toggleable__label-arrow:before {content: \"▸\";float: left;margin-right: 0.25em;color: #696969;}#sk-container-id-1 label.sk-toggleable__label-arrow:hover:before {color: black;}#sk-container-id-1 div.sk-estimator:hover label.sk-toggleable__label-arrow:before {color: black;}#sk-container-id-1 div.sk-toggleable__content {max-height: 0;max-width: 0;overflow: hidden;text-align: left;background-color: #f0f8ff;}#sk-container-id-1 div.sk-toggleable__content pre {margin: 0.2em;color: black;border-radius: 0.25em;background-color: #f0f8ff;}#sk-container-id-1 input.sk-toggleable__control:checked~div.sk-toggleable__content {max-height: 200px;max-width: 100%;overflow: auto;}#sk-container-id-1 input.sk-toggleable__control:checked~label.sk-toggleable__label-arrow:before {content: \"▾\";}#sk-container-id-1 div.sk-estimator input.sk-toggleable__control:checked~label.sk-toggleable__label {background-color: #d4ebff;}#sk-container-id-1 div.sk-label input.sk-toggleable__control:checked~label.sk-toggleable__label {background-color: #d4ebff;}#sk-container-id-1 input.sk-hidden--visually {border: 0;clip: rect(1px 1px 1px 1px);clip: rect(1px, 1px, 1px, 1px);height: 1px;margin: -1px;overflow: hidden;padding: 0;position: absolute;width: 1px;}#sk-container-id-1 div.sk-estimator {font-family: monospace;background-color: #f0f8ff;border: 1px dotted black;border-radius: 0.25em;box-sizing: border-box;margin-bottom: 0.5em;}#sk-container-id-1 div.sk-estimator:hover {background-color: #d4ebff;}#sk-container-id-1 div.sk-parallel-item::after {content: \"\";width: 100%;border-bottom: 1px solid gray;flex-grow: 1;}#sk-container-id-1 div.sk-label:hover label.sk-toggleable__label {background-color: #d4ebff;}#sk-container-id-1 div.sk-serial::before {content: \"\";position: absolute;border-left: 1px solid gray;box-sizing: border-box;top: 0;bottom: 0;left: 50%;z-index: 0;}#sk-container-id-1 div.sk-serial {display: flex;flex-direction: column;align-items: center;background-color: white;padding-right: 0.2em;padding-left: 0.2em;position: relative;}#sk-container-id-1 div.sk-item {position: relative;z-index: 1;}#sk-container-id-1 div.sk-parallel {display: flex;align-items: stretch;justify-content: center;background-color: white;position: relative;}#sk-container-id-1 div.sk-item::before, #sk-container-id-1 div.sk-parallel-item::before {content: \"\";position: absolute;border-left: 1px solid gray;box-sizing: border-box;top: 0;bottom: 0;left: 50%;z-index: -1;}#sk-container-id-1 div.sk-parallel-item {display: flex;flex-direction: column;z-index: 1;position: relative;background-color: white;}#sk-container-id-1 div.sk-parallel-item:first-child::after {align-self: flex-end;width: 50%;}#sk-container-id-1 div.sk-parallel-item:last-child::after {align-self: flex-start;width: 50%;}#sk-container-id-1 div.sk-parallel-item:only-child::after {width: 0;}#sk-container-id-1 div.sk-dashed-wrapped {border: 1px dashed gray;margin: 0 0.4em 0.5em 0.4em;box-sizing: border-box;padding-bottom: 0.4em;background-color: white;}#sk-container-id-1 div.sk-label label {font-family: monospace;font-weight: bold;display: inline-block;line-height: 1.2em;}#sk-container-id-1 div.sk-label-container {text-align: center;}#sk-container-id-1 div.sk-container {/* jupyter's `normalize.less` sets `[hidden] { display: none; }` but bootstrap.min.css set `[hidden] { display: none !important; }` so we also need the `!important` here to be able to override the default hidden behavior on the sphinx rendered scikit-learn.org. See: https://github.com/scikit-learn/scikit-learn/issues/21755 */display: inline-block !important;position: relative;}#sk-container-id-1 div.sk-text-repr-fallback {display: none;}</style><div id=\"sk-container-id-1\" class=\"sk-top-container\"><div class=\"sk-text-repr-fallback\"><pre>LinearRegression()</pre><b>In a Jupyter environment, please rerun this cell to show the HTML representation or trust the notebook. <br />On GitHub, the HTML representation is unable to render, please try loading this page with nbviewer.org.</b></div><div class=\"sk-container\" hidden><div class=\"sk-item\"><div class=\"sk-estimator sk-toggleable\"><input class=\"sk-toggleable__control sk-hidden--visually\" id=\"sk-estimator-id-1\" type=\"checkbox\" checked><label for=\"sk-estimator-id-1\" class=\"sk-toggleable__label sk-toggleable__label-arrow\">LinearRegression</label><div class=\"sk-toggleable__content\"><pre>LinearRegression()</pre></div></div></div></div></div>"
      ],
      "text/plain": [
       "LinearRegression()"
      ]
     },
     "execution_count": 10,
     "metadata": {},
     "output_type": "execute_result"
    }
   ],
   "source": [
    "model.fit(X_train, y_train)"
   ]
  },
  {
   "cell_type": "code",
   "execution_count": 17,
   "id": "a21d572c-c448-4a63-b1bb-b202d4173436",
   "metadata": {},
   "outputs": [],
   "source": [
    "from sklearn.preprocessing import StandardScaler"
   ]
  },
  {
   "cell_type": "code",
   "execution_count": 22,
   "id": "cb778c10-ff81-4b4d-b2e0-e0f798e9ba0c",
   "metadata": {},
   "outputs": [],
   "source": [
    "scaler = StandardScaler()\n",
    "scaler.fit(X_train)\n",
    "X_train = scaler.transform(X_train)\n",
    "X_test = scaler.transform(X_test)"
   ]
  },
  {
   "cell_type": "code",
   "execution_count": 23,
   "id": "68cf131f-de56-4798-bd50-db082fdde3d2",
   "metadata": {},
   "outputs": [],
   "source": [
    "prediction_polynomial = model.predict(X_test)"
   ]
  },
  {
   "cell_type": "markdown",
   "id": "83b2ed55-a19f-416b-9c3c-03871e5f272e",
   "metadata": {},
   "source": [
    "<h2><mark>Comparing Linear & Polynomial Regression</mark></h2>"
   ]
  },
  {
   "cell_type": "code",
   "execution_count": 24,
   "id": "5f86fb50-7559-4a64-af82-b1f8cdfdec82",
   "metadata": {},
   "outputs": [],
   "source": [
    "residual_polynomial = y_test - prediction_polynomial"
   ]
  },
  {
   "cell_type": "code",
   "execution_count": 25,
   "id": "bafb517c-8e7a-4b61-ad9c-6a91e1a5a7f8",
   "metadata": {},
   "outputs": [
    {
     "data": {
      "text/plain": [
       "<Axes: xlabel='sales', ylabel='Count'>"
      ]
     },
     "execution_count": 25,
     "metadata": {},
     "output_type": "execute_result"
    },
    {
     "data": {
      "image/png": "[encoded data removed]",
      "text/plain": [
       "<Figure size 640x480 with 1 Axes>"
      ]
     },
     "metadata": {},
     "output_type": "display_data"
    }
   ],
   "source": [
    "sns.histplot(data=residual_polynomial , kde=True)"
   ]
  },
  {
   "cell_type": "code",
   "execution_count": 26,
   "id": "e6a8c155-8085-454a-b495-0a687ba1af96",
   "metadata": {},
   "outputs": [
    {
     "name": "stdout",
     "output_type": "stream",
     "text": [
      "Mean Absolute Error: 0.3932185286563811  Root Mean Square Error: 0.5577254823367543\n"
     ]
    }
   ],
   "source": [
    "mae = mean_absolute_error(y_test,prediction_polynomial)\n",
    "mse = mean_squared_error(y_test,prediction_polynomial)\n",
    "rmse = np.sqrt(mse)\n",
    "print(\"Mean Absolute Error:\" , mae ,\" Root Mean Square Error:\",rmse)"
   ]
  },
  {
   "cell_type": "code",
   "execution_count": 15,
   "id": "124dd146-c73e-4e9e-87fe-10fc79616654",
   "metadata": {},
   "outputs": [
    {
     "data": {
      "text/plain": [
       "array([ 8.48640295e-02,  3.17595923e-02,  1.48708109e-02, -4.07135519e-04,\n",
       "        1.55556041e-03, -3.13375556e-04, -1.81729512e-03,  8.96067355e-04,\n",
       "        1.46295664e-04,  7.01282872e-07, -1.80424525e-06,  1.02768549e-06,\n",
       "        2.80940516e-06, -2.15105776e-06,  5.10402951e-08,  2.22063326e-05,\n",
       "       -7.79222370e-06, -3.51382588e-06, -1.22340332e-06])"
      ]
     },
     "execution_count": 15,
     "metadata": {},
     "output_type": "execute_result"
    }
   ],
   "source": [
    "model.coef_"
   ]
  },
  {
   "cell_type": "code",
   "execution_count": null,
   "id": "e7479ab4-6bd7-4ec8-8575-20fc8455595a",
   "metadata": {},
   "outputs": [],
   "source": []
  }
 ],
 "metadata": {
  "kernelspec": {
   "display_name": "Python 3 (ipykernel)",
   "language": "python",
   "name": "python3"
  },
  "language_info": {
   "codemirror_mode": {
    "name": "ipython",
    "version": 3
   },
   "file_extension": ".py",
   "mimetype": "text/x-python",
   "name": "python",
   "nbconvert_exporter": "python",
   "pygments_lexer": "ipython3",
   "version": "3.10.0"
  }
 },
 "nbformat": 4,
 "nbformat_minor": 5
}
