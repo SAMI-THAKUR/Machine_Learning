{
 "cells": [
  {
   "cell_type": "code",
   "execution_count": 1,
   "id": "3e705dd5-8391-40fc-9ea2-a2089a77c1fa",
   "metadata": {
    "execution": {
     "iopub.execute_input": "2024-05-20T09:25:16.542650Z",
     "iopub.status.busy": "2024-05-20T09:25:16.542650Z",
     "iopub.status.idle": "2024-05-20T09:25:31.033901Z",
     "shell.execute_reply": "2024-05-20T09:25:31.032903Z",
     "shell.execute_reply.started": "2024-05-20T09:25:16.542650Z"
    }
   },
   "outputs": [],
   "source": [
    "import numpy as np\n",
    "import pandas as pd\n",
    "import seaborn as sns\n",
    "import matplotlib.pyplot as plt"
   ]
  },
  {
   "cell_type": "code",
   "execution_count": 3,
   "id": "7b63cf3e-3880-4340-b6d1-f70fc09ea442",
   "metadata": {
    "execution": {
     "iopub.execute_input": "2024-05-20T09:25:47.280174Z",
     "iopub.status.busy": "2024-05-20T09:25:47.280174Z",
     "iopub.status.idle": "2024-05-20T09:25:48.591667Z",
     "shell.execute_reply": "2024-05-20T09:25:48.590670Z",
     "shell.execute_reply.started": "2024-05-20T09:25:47.280174Z"
    }
   },
   "outputs": [],
   "source": [
    "url = 'https://drive.google.com/file/d/1VD06DjyGegNAWdJxFqKW-BtNsSbZsbez/view?usp=drive_link'\n",
    "url = 'https://drive.google.com/uc?id=' + url.split('/')[-2]\n",
    "df = pd.read_csv(url)"
   ]
  },
  {
   "cell_type": "code",
   "execution_count": 5,
   "id": "575ea9f5-3ce8-48dc-a30a-188d13838504",
   "metadata": {
    "execution": {
     "iopub.execute_input": "2024-05-20T09:25:55.587958Z",
     "iopub.status.busy": "2024-05-20T09:25:55.586960Z",
     "iopub.status.idle": "2024-05-20T09:25:55.604916Z",
     "shell.execute_reply": "2024-05-20T09:25:55.603916Z",
     "shell.execute_reply.started": "2024-05-20T09:25:55.587958Z"
    }
   },
   "outputs": [
    {
     "data": {
      "text/html": [
       "<div>\n",
       "<style scoped>\n",
       "    .dataframe tbody tr th:only-of-type {\n",
       "        vertical-align: middle;\n",
       "    }\n",
       "\n",
       "    .dataframe tbody tr th {\n",
       "        vertical-align: top;\n",
       "    }\n",
       "\n",
       "    .dataframe thead th {\n",
       "        text-align: right;\n",
       "    }\n",
       "</style>\n",
       "<table border=\"1\" class=\"dataframe\">\n",
       "  <thead>\n",
       "    <tr style=\"text-align: right;\">\n",
       "      <th></th>\n",
       "      <th>TV</th>\n",
       "      <th>radio</th>\n",
       "      <th>newspaper</th>\n",
       "      <th>sales</th>\n",
       "    </tr>\n",
       "  </thead>\n",
       "  <tbody>\n",
       "    <tr>\n",
       "      <th>0</th>\n",
       "      <td>230.1</td>\n",
       "      <td>37.8</td>\n",
       "      <td>69.2</td>\n",
       "      <td>22.1</td>\n",
       "    </tr>\n",
       "    <tr>\n",
       "      <th>1</th>\n",
       "      <td>44.5</td>\n",
       "      <td>39.3</td>\n",
       "      <td>45.1</td>\n",
       "      <td>10.4</td>\n",
       "    </tr>\n",
       "    <tr>\n",
       "      <th>2</th>\n",
       "      <td>17.2</td>\n",
       "      <td>45.9</td>\n",
       "      <td>69.3</td>\n",
       "      <td>9.3</td>\n",
       "    </tr>\n",
       "    <tr>\n",
       "      <th>3</th>\n",
       "      <td>151.5</td>\n",
       "      <td>41.3</td>\n",
       "      <td>58.5</td>\n",
       "      <td>18.5</td>\n",
       "    </tr>\n",
       "    <tr>\n",
       "      <th>4</th>\n",
       "      <td>180.8</td>\n",
       "      <td>10.8</td>\n",
       "      <td>58.4</td>\n",
       "      <td>12.9</td>\n",
       "    </tr>\n",
       "  </tbody>\n",
       "</table>\n",
       "</div>"
      ],
      "text/plain": [
       "      TV  radio  newspaper  sales\n",
       "0  230.1   37.8       69.2   22.1\n",
       "1   44.5   39.3       45.1   10.4\n",
       "2   17.2   45.9       69.3    9.3\n",
       "3  151.5   41.3       58.5   18.5\n",
       "4  180.8   10.8       58.4   12.9"
      ]
     },
     "execution_count": 5,
     "metadata": {},
     "output_type": "execute_result"
    }
   ],
   "source": [
    "df.head()"
   ]
  },
  {
   "cell_type": "code",
   "execution_count": 7,
   "id": "19527ced-e4a4-435a-9908-4eba67f3ac6a",
   "metadata": {
    "execution": {
     "iopub.execute_input": "2024-05-20T09:30:07.915632Z",
     "iopub.status.busy": "2024-05-20T09:30:07.914633Z",
     "iopub.status.idle": "2024-05-20T09:30:08.272793Z",
     "shell.execute_reply": "2024-05-20T09:30:08.270800Z",
     "shell.execute_reply.started": "2024-05-20T09:30:07.915632Z"
    }
   },
   "outputs": [
    {
     "data": {
      "text/plain": [
       "<Axes: >"
      ]
     },
     "execution_count": 7,
     "metadata": {},
     "output_type": "execute_result"
    },
    {
     "data": {
      "image/png": "[encoded data removed]",
      "text/plain": [
       "<Figure size 640x480 with 2 Axes>"
      ]
     },
     "metadata": {},
     "output_type": "display_data"
    }
   ],
   "source": [
    "sns.heatmap(df.corr() , annot=True)"
   ]
  },
  {
   "cell_type": "code",
   "execution_count": 33,
   "id": "6fde1000-6dad-4217-bd4d-c2a212ae5d59",
   "metadata": {
    "execution": {
     "iopub.execute_input": "2024-05-20T09:40:23.141073Z",
     "iopub.status.busy": "2024-05-20T09:40:23.140072Z",
     "iopub.status.idle": "2024-05-20T09:40:23.153036Z",
     "shell.execute_reply": "2024-05-20T09:40:23.152039Z",
     "shell.execute_reply.started": "2024-05-20T09:40:23.141073Z"
    }
   },
   "outputs": [],
   "source": [
    "X = df.drop('sales' , axis=1)\n",
    "y = df['sales']"
   ]
  },
  {
   "cell_type": "code",
   "execution_count": 34,
   "id": "64b55304-41ee-4316-afb4-837f007d9d09",
   "metadata": {
    "execution": {
     "iopub.execute_input": "2024-05-20T09:40:23.345523Z",
     "iopub.status.busy": "2024-05-20T09:40:23.344525Z",
     "iopub.status.idle": "2024-05-20T09:40:23.356494Z",
     "shell.execute_reply": "2024-05-20T09:40:23.355496Z",
     "shell.execute_reply.started": "2024-05-20T09:40:23.345523Z"
    }
   },
   "outputs": [],
   "source": [
    "from sklearn.model_selection import train_test_split"
   ]
  },
  {
   "cell_type": "code",
   "execution_count": 35,
   "id": "667ccb2d-87a1-46e9-80d5-80647f33e101",
   "metadata": {
    "execution": {
     "iopub.execute_input": "2024-05-20T09:40:23.582887Z",
     "iopub.status.busy": "2024-05-20T09:40:23.581892Z",
     "iopub.status.idle": "2024-05-20T09:40:23.593858Z",
     "shell.execute_reply": "2024-05-20T09:40:23.592861Z",
     "shell.execute_reply.started": "2024-05-20T09:40:23.581892Z"
    }
   },
   "outputs": [],
   "source": [
    "X_train, X_test, y_train, y_test = train_test_split(X, y, test_size=0.33, random_state=101)"
   ]
  },
  {
   "cell_type": "code",
   "execution_count": 36,
   "id": "f41f6a57-46ac-40f6-bba1-9ab13e6f7701",
   "metadata": {
    "execution": {
     "iopub.execute_input": "2024-05-20T09:40:24.168323Z",
     "iopub.status.busy": "2024-05-20T09:40:24.168323Z",
     "iopub.status.idle": "2024-05-20T09:40:24.188269Z",
     "shell.execute_reply": "2024-05-20T09:40:24.187273Z",
     "shell.execute_reply.started": "2024-05-20T09:40:24.168323Z"
    }
   },
   "outputs": [],
   "source": [
    "from sklearn.preprocessing import StandardScaler"
   ]
  },
  {
   "cell_type": "code",
   "execution_count": 37,
   "id": "1a6bba94-651e-423c-87bd-0ab7502518e1",
   "metadata": {
    "execution": {
     "iopub.execute_input": "2024-05-20T09:40:24.428627Z",
     "iopub.status.busy": "2024-05-20T09:40:24.427629Z",
     "iopub.status.idle": "2024-05-20T09:40:24.440595Z",
     "shell.execute_reply": "2024-05-20T09:40:24.438600Z",
     "shell.execute_reply.started": "2024-05-20T09:40:24.428627Z"
    }
   },
   "outputs": [],
   "source": [
    "scaler = StandardScaler()"
   ]
  },
  {
   "cell_type": "code",
   "execution_count": 38,
   "id": "89c4e78a-5395-4180-9f57-de67b87f19eb",
   "metadata": {
    "execution": {
     "iopub.execute_input": "2024-05-20T09:40:24.748770Z",
     "iopub.status.busy": "2024-05-20T09:40:24.747772Z",
     "iopub.status.idle": "2024-05-20T09:40:24.763730Z",
     "shell.execute_reply": "2024-05-20T09:40:24.762733Z",
     "shell.execute_reply.started": "2024-05-20T09:40:24.748770Z"
    }
   },
   "outputs": [],
   "source": [
    "from sklearn.svm import SVR"
   ]
  },
  {
   "cell_type": "code",
   "execution_count": 39,
   "id": "cd3f33b1-2948-40b4-b548-ee020eeb588e",
   "metadata": {
    "execution": {
     "iopub.execute_input": "2024-05-20T09:40:25.069912Z",
     "iopub.status.busy": "2024-05-20T09:40:25.069912Z",
     "iopub.status.idle": "2024-05-20T09:40:25.079885Z",
     "shell.execute_reply": "2024-05-20T09:40:25.078887Z",
     "shell.execute_reply.started": "2024-05-20T09:40:25.069912Z"
    }
   },
   "outputs": [],
   "source": [
    "svr = SVR()"
   ]
  },
  {
   "cell_type": "code",
   "execution_count": 40,
   "id": "d7bc7cef-168e-4e9d-8109-07980a77f1c9",
   "metadata": {
    "execution": {
     "iopub.execute_input": "2024-05-20T09:40:25.411996Z",
     "iopub.status.busy": "2024-05-20T09:40:25.410999Z",
     "iopub.status.idle": "2024-05-20T09:40:25.424962Z",
     "shell.execute_reply": "2024-05-20T09:40:25.423966Z",
     "shell.execute_reply.started": "2024-05-20T09:40:25.411996Z"
    }
   },
   "outputs": [],
   "source": [
    "operations = [('scaler',scaler),('svr',svr)]"
   ]
  },
  {
   "cell_type": "code",
   "execution_count": 41,
   "id": "927d05d9-4358-4a30-8e81-0c2946bedb49",
   "metadata": {
    "execution": {
     "iopub.execute_input": "2024-05-20T09:40:25.792978Z",
     "iopub.status.busy": "2024-05-20T09:40:25.791981Z",
     "iopub.status.idle": "2024-05-20T09:40:25.801954Z",
     "shell.execute_reply": "2024-05-20T09:40:25.800957Z",
     "shell.execute_reply.started": "2024-05-20T09:40:25.792978Z"
    }
   },
   "outputs": [],
   "source": [
    "from sklearn.pipeline import Pipeline"
   ]
  },
  {
   "cell_type": "code",
   "execution_count": 42,
   "id": "d11dcab9-4773-4cf1-9c2b-036c027e74f3",
   "metadata": {
    "execution": {
     "iopub.execute_input": "2024-05-20T09:40:26.164983Z",
     "iopub.status.busy": "2024-05-20T09:40:26.164983Z",
     "iopub.status.idle": "2024-05-20T09:40:26.178946Z",
     "shell.execute_reply": "2024-05-20T09:40:26.177949Z",
     "shell.execute_reply.started": "2024-05-20T09:40:26.164983Z"
    }
   },
   "outputs": [],
   "source": [
    "pipe = Pipeline(operations)"
   ]
  },
  {
   "cell_type": "code",
   "execution_count": 43,
   "id": "3b3e3901-8daf-41c2-bfa0-ca0c36ed8bbe",
   "metadata": {
    "execution": {
     "iopub.execute_input": "2024-05-20T09:40:26.618769Z",
     "iopub.status.busy": "2024-05-20T09:40:26.617772Z",
     "iopub.status.idle": "2024-05-20T09:40:26.632733Z",
     "shell.execute_reply": "2024-05-20T09:40:26.631734Z",
     "shell.execute_reply.started": "2024-05-20T09:40:26.618769Z"
    }
   },
   "outputs": [],
   "source": [
    "from sklearn.model_selection import GridSearchCV"
   ]
  },
  {
   "cell_type": "code",
   "execution_count": 45,
   "id": "dce02622-9011-40ed-8ffa-8deb5d2934f2",
   "metadata": {
    "execution": {
     "iopub.execute_input": "2024-05-20T09:40:27.528337Z",
     "iopub.status.busy": "2024-05-20T09:40:27.527340Z",
     "iopub.status.idle": "2024-05-20T09:40:27.538311Z",
     "shell.execute_reply": "2024-05-20T09:40:27.536316Z",
     "shell.execute_reply.started": "2024-05-20T09:40:27.528337Z"
    }
   },
   "outputs": [],
   "source": [
    "param_grid = {'svr__kernel':['linear','rbf'] , 'svr__C':[0.01,0.1,1]}"
   ]
  },
  {
   "cell_type": "code",
   "execution_count": 46,
   "id": "8ca3f94c-64c2-41d4-9196-531f3fd0cbce",
   "metadata": {
    "execution": {
     "iopub.execute_input": "2024-05-20T09:40:28.032989Z",
     "iopub.status.busy": "2024-05-20T09:40:28.031990Z",
     "iopub.status.idle": "2024-05-20T09:40:28.053932Z",
     "shell.execute_reply": "2024-05-20T09:40:28.051937Z",
     "shell.execute_reply.started": "2024-05-20T09:40:28.032989Z"
    }
   },
   "outputs": [],
   "source": [
    "grid = GridSearchCV(pipe,param_grid)"
   ]
  },
  {
   "cell_type": "code",
   "execution_count": 47,
   "id": "1f0ae447-aee6-433c-968e-90fd8c7e0edd",
   "metadata": {
    "execution": {
     "iopub.execute_input": "2024-05-20T09:40:28.636374Z",
     "iopub.status.busy": "2024-05-20T09:40:28.635376Z",
     "iopub.status.idle": "2024-05-20T09:40:28.976466Z",
     "shell.execute_reply": "2024-05-20T09:40:28.975468Z",
     "shell.execute_reply.started": "2024-05-20T09:40:28.636374Z"
    }
   },
   "outputs": [
    {
     "data": {
      "text/html": [
       "<style>#sk-container-id-2 {color: black;}#sk-container-id-2 pre{padding: 0;}#sk-container-id-2 div.sk-toggleable {background-color: white;}#sk-container-id-2 label.sk-toggleable__label {cursor: pointer;display: block;width: 100%;margin-bottom: 0;padding: 0.3em;box-sizing: border-box;text-align: center;}#sk-container-id-2 label.sk-toggleable__label-arrow:before {content: \"▸\";float: left;margin-right: 0.25em;color: #696969;}#sk-container-id-2 label.sk-toggleable__label-arrow:hover:before {color: black;}#sk-container-id-2 div.sk-estimator:hover label.sk-toggleable__label-arrow:before {color: black;}#sk-container-id-2 div.sk-toggleable__content {max-height: 0;max-width: 0;overflow: hidden;text-align: left;background-color: #f0f8ff;}#sk-container-id-2 div.sk-toggleable__content pre {margin: 0.2em;color: black;border-radius: 0.25em;background-color: #f0f8ff;}#sk-container-id-2 input.sk-toggleable__control:checked~div.sk-toggleable__content {max-height: 200px;max-width: 100%;overflow: auto;}#sk-container-id-2 input.sk-toggleable__control:checked~label.sk-toggleable__label-arrow:before {content: \"▾\";}#sk-container-id-2 div.sk-estimator input.sk-toggleable__control:checked~label.sk-toggleable__label {background-color: #d4ebff;}#sk-container-id-2 div.sk-label input.sk-toggleable__control:checked~label.sk-toggleable__label {background-color: #d4ebff;}#sk-container-id-2 input.sk-hidden--visually {border: 0;clip: rect(1px 1px 1px 1px);clip: rect(1px, 1px, 1px, 1px);height: 1px;margin: -1px;overflow: hidden;padding: 0;position: absolute;width: 1px;}#sk-container-id-2 div.sk-estimator {font-family: monospace;background-color: #f0f8ff;border: 1px dotted black;border-radius: 0.25em;box-sizing: border-box;margin-bottom: 0.5em;}#sk-container-id-2 div.sk-estimator:hover {background-color: #d4ebff;}#sk-container-id-2 div.sk-parallel-item::after {content: \"\";width: 100%;border-bottom: 1px solid gray;flex-grow: 1;}#sk-container-id-2 div.sk-label:hover label.sk-toggleable__label {background-color: #d4ebff;}#sk-container-id-2 div.sk-serial::before {content: \"\";position: absolute;border-left: 1px solid gray;box-sizing: border-box;top: 0;bottom: 0;left: 50%;z-index: 0;}#sk-container-id-2 div.sk-serial {display: flex;flex-direction: column;align-items: center;background-color: white;padding-right: 0.2em;padding-left: 0.2em;position: relative;}#sk-container-id-2 div.sk-item {position: relative;z-index: 1;}#sk-container-id-2 div.sk-parallel {display: flex;align-items: stretch;justify-content: center;background-color: white;position: relative;}#sk-container-id-2 div.sk-item::before, #sk-container-id-2 div.sk-parallel-item::before {content: \"\";position: absolute;border-left: 1px solid gray;box-sizing: border-box;top: 0;bottom: 0;left: 50%;z-index: -1;}#sk-container-id-2 div.sk-parallel-item {display: flex;flex-direction: column;z-index: 1;position: relative;background-color: white;}#sk-container-id-2 div.sk-parallel-item:first-child::after {align-self: flex-end;width: 50%;}#sk-container-id-2 div.sk-parallel-item:last-child::after {align-self: flex-start;width: 50%;}#sk-container-id-2 div.sk-parallel-item:only-child::after {width: 0;}#sk-container-id-2 div.sk-dashed-wrapped {border: 1px dashed gray;margin: 0 0.4em 0.5em 0.4em;box-sizing: border-box;padding-bottom: 0.4em;background-color: white;}#sk-container-id-2 div.sk-label label {font-family: monospace;font-weight: bold;display: inline-block;line-height: 1.2em;}#sk-container-id-2 div.sk-label-container {text-align: center;}#sk-container-id-2 div.sk-container {/* jupyter's `normalize.less` sets `[hidden] { display: none; }` but bootstrap.min.css set `[hidden] { display: none !important; }` so we also need the `!important` here to be able to override the default hidden behavior on the sphinx rendered scikit-learn.org. See: https://github.com/scikit-learn/scikit-learn/issues/21755 */display: inline-block !important;position: relative;}#sk-container-id-2 div.sk-text-repr-fallback {display: none;}</style><div id=\"sk-container-id-2\" class=\"sk-top-container\"><div class=\"sk-text-repr-fallback\"><pre>GridSearchCV(estimator=Pipeline(steps=[(&#x27;scaler&#x27;, StandardScaler()),\n",
       "                                       (&#x27;svr&#x27;, SVR())]),\n",
       "             param_grid={&#x27;svr__C&#x27;: [0.01, 0.1, 1],\n",
       "                         &#x27;svr__kernel&#x27;: [&#x27;linear&#x27;, &#x27;rbf&#x27;]})</pre><b>In a Jupyter environment, please rerun this cell to show the HTML representation or trust the notebook. <br />On GitHub, the HTML representation is unable to render, please try loading this page with nbviewer.org.</b></div><div class=\"sk-container\" hidden><div class=\"sk-item sk-dashed-wrapped\"><div class=\"sk-label-container\"><div class=\"sk-label sk-toggleable\"><input class=\"sk-toggleable__control sk-hidden--visually\" id=\"sk-estimator-id-5\" type=\"checkbox\" ><label for=\"sk-estimator-id-5\" class=\"sk-toggleable__label sk-toggleable__label-arrow\">GridSearchCV</label><div class=\"sk-toggleable__content\"><pre>GridSearchCV(estimator=Pipeline(steps=[(&#x27;scaler&#x27;, StandardScaler()),\n",
       "                                       (&#x27;svr&#x27;, SVR())]),\n",
       "             param_grid={&#x27;svr__C&#x27;: [0.01, 0.1, 1],\n",
       "                         &#x27;svr__kernel&#x27;: [&#x27;linear&#x27;, &#x27;rbf&#x27;]})</pre></div></div></div><div class=\"sk-parallel\"><div class=\"sk-parallel-item\"><div class=\"sk-item\"><div class=\"sk-label-container\"><div class=\"sk-label sk-toggleable\"><input class=\"sk-toggleable__control sk-hidden--visually\" id=\"sk-estimator-id-6\" type=\"checkbox\" ><label for=\"sk-estimator-id-6\" class=\"sk-toggleable__label sk-toggleable__label-arrow\">estimator: Pipeline</label><div class=\"sk-toggleable__content\"><pre>Pipeline(steps=[(&#x27;scaler&#x27;, StandardScaler()), (&#x27;svr&#x27;, SVR())])</pre></div></div></div><div class=\"sk-serial\"><div class=\"sk-item\"><div class=\"sk-serial\"><div class=\"sk-item\"><div class=\"sk-estimator sk-toggleable\"><input class=\"sk-toggleable__control sk-hidden--visually\" id=\"sk-estimator-id-7\" type=\"checkbox\" ><label for=\"sk-estimator-id-7\" class=\"sk-toggleable__label sk-toggleable__label-arrow\">StandardScaler</label><div class=\"sk-toggleable__content\"><pre>StandardScaler()</pre></div></div></div><div class=\"sk-item\"><div class=\"sk-estimator sk-toggleable\"><input class=\"sk-toggleable__control sk-hidden--visually\" id=\"sk-estimator-id-8\" type=\"checkbox\" ><label for=\"sk-estimator-id-8\" class=\"sk-toggleable__label sk-toggleable__label-arrow\">SVR</label><div class=\"sk-toggleable__content\"><pre>SVR()</pre></div></div></div></div></div></div></div></div></div></div></div></div>"
      ],
      "text/plain": [
       "GridSearchCV(estimator=Pipeline(steps=[('scaler', StandardScaler()),\n",
       "                                       ('svr', SVR())]),\n",
       "             param_grid={'svr__C': [0.01, 0.1, 1],\n",
       "                         'svr__kernel': ['linear', 'rbf']})"
      ]
     },
     "execution_count": 47,
     "metadata": {},
     "output_type": "execute_result"
    }
   ],
   "source": [
    "grid.fit(X_train,y_train)"
   ]
  },
  {
   "cell_type": "code",
   "execution_count": 48,
   "id": "12fe68e7-c42d-479b-95d9-295f70b9bed8",
   "metadata": {
    "execution": {
     "iopub.execute_input": "2024-05-20T09:40:35.721429Z",
     "iopub.status.busy": "2024-05-20T09:40:35.720431Z",
     "iopub.status.idle": "2024-05-20T09:40:35.732399Z",
     "shell.execute_reply": "2024-05-20T09:40:35.731401Z",
     "shell.execute_reply.started": "2024-05-20T09:40:35.721429Z"
    }
   },
   "outputs": [
    {
     "data": {
      "text/plain": [
       "{'svr__C': 1, 'svr__kernel': 'linear'}"
      ]
     },
     "execution_count": 48,
     "metadata": {},
     "output_type": "execute_result"
    }
   ],
   "source": [
    "grid.best_params_"
   ]
  },
  {
   "cell_type": "code",
   "execution_count": null,
   "id": "e99148a5-5398-42c2-a6aa-90363efad087",
   "metadata": {},
   "outputs": [],
   "source": [
    "svr.fit(X_train,y_train)"
   ]
  }
 ],
 "metadata": {
  "kernelspec": {
   "display_name": "Python 3 (ipykernel)",
   "language": "python",
   "name": "python3"
  },
  "language_info": {
   "codemirror_mode": {
    "name": "ipython",
    "version": 3
   },
   "file_extension": ".py",
   "mimetype": "text/x-python",
   "name": "python",
   "nbconvert_exporter": "python",
   "pygments_lexer": "ipython3",
   "version": "3.10.0"
  }
 },
 "nbformat": 4,
 "nbformat_minor": 5
}
