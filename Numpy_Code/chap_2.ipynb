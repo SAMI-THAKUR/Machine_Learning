{
 "cells": [
  {
   "cell_type": "code",
   "execution_count": 2,
   "id": "0de5c0ac-2b40-437e-b790-052d86333c01",
   "metadata": {},
   "outputs": [
    {
     "name": "stdout",
     "output_type": "stream",
     "text": [
      "[2 3 4]\n",
      "[1 2 3 4]\n",
      "[5 6 7 8 9]\n",
      "[1 3 5 7 9]\n",
      "[1 2 3 4 5 6 7 8 9]\n",
      "[[1 2 3]\n",
      " [4 5 6]\n",
      " [7 8 9]]\n",
      "9\n"
     ]
    }
   ],
   "source": [
    "import numpy as numpy\n",
    "\n",
    "# --- slicing --- #\n",
    "li = [1, 2, 3, 4, 5, 6, 7, 8, 9]\n",
    "n = numpy.array(li)\n",
    "\n",
    "print(n[1:4])  # --> 2, 3, 4\n",
    "print(n[:4])  # --> 1, 2, 3, 4 (start from 0)\n",
    "print(n[4:])  # --> 5, 6, 7, 8, 9 (end at last index)\n",
    "print(n[0:9:2])  # --> 2, 4, 6, 8 (start:end:step)\n",
    "print(n[-9:])  # --> 1, 2, 3, 4, 5, 6, 7, 8, 9 (start from -9 to end)\n",
    "\n",
    "# --- 2D array --- #\n",
    "n1 = numpy.array([[1, 2, 3], [4, 5, 6], [7, 8, 9]])\n",
    "print(n1)\n",
    "print(n1[2,2])  # --> 1, 2, 4, 5 (row,col)"
   ]
  },
  {
   "cell_type": "code",
   "execution_count": null,
   "id": "2b56f0fe-d49b-4bc7-8b8c-eb2cf1c3214c",
   "metadata": {},
   "outputs": [],
   "source": []
  }
 ],
 "metadata": {
  "kernelspec": {
   "display_name": "Python 3 (ipykernel)",
   "language": "python",
   "name": "python3"
  },
  "language_info": {
   "codemirror_mode": {
    "name": "ipython",
    "version": 3
   },
   "file_extension": ".py",
   "mimetype": "text/x-python",
   "name": "python",
   "nbconvert_exporter": "python",
   "pygments_lexer": "ipython3",
   "version": "3.12.0"
  }
 },
 "nbformat": 4,
 "nbformat_minor": 5
}
