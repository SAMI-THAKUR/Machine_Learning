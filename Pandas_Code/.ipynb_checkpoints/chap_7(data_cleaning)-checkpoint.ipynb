{
 "cells": [
  {
   "cell_type": "code",
   "execution_count": 2,
   "metadata": {},
   "outputs": [],
   "source": [
    "import pandas as pd\n",
    "import numpy as np"
   ]
  },
  {
   "cell_type": "code",
   "execution_count": 3,
   "metadata": {},
   "outputs": [],
   "source": [
    "teamMembers = [\n",
    "    { \"name\": \"Shreyash Bhute\", \"post\": \"Jr. Operations Officer\"},\n",
    "    { \"name\": \"Arya Madhavi\", \"post\": \"Jr. Operations Officer\", \"mail\": \"2022.arya.madhavi@ves.ac.in\" },\n",
    "    { \"name\": \"Surel Sanap\", \"post\": \"Jr. Public Relations Officer\", \"mail\": \"2022.surel.sanap@ves.ac.in\" },\n",
    "    { \"name\": \"Simran Godhwani\", \"post\": \"Jr. Public Relations Officer\", \"mail\": \"2022.simran.godhwani@ves.ac.in\" },\n",
    "    {},\n",
    "    { \"name\": \"Aditya Kumar\", \"post\": \"Jr. Web Editor\", \"mail\": \"2022.aditya.sampathkumar@ves.ac.in\" },\n",
    "    { \"name\": \"Karan Bhatia\", \"post\": \"Jr. Web Editor\", \"mail\": \"2022.karan.bhatia@ves.ac.in\" },\n",
    "    { \"name\": \"Sami Thakur\", \"post\": \"Jr. Technical Officer\", \"mail\": \"2022.sami.thakur@ves.ac.in\" },\n",
    "    { \"name\": \"Sagar Rajak\", \"post\": \"Jr. Technical Officer\", \"mail\": \"2022.sagar.rajak@ves.ac.in\" },\n",
    "    {\"name\":\"\" },\n",
    "    { \"name\": \"Anish Paresh Padhye\", \"post\": \"Jr. Editor\", \"mail\": \"2022.anish.padhye@ves.ac.in\" },\n",
    "]"
   ]
  },
  {
   "cell_type": "code",
   "execution_count": 4,
   "metadata": {},
   "outputs": [
    {
     "data": {
      "text/plain": [
       "NaT"
      ]
     },
     "execution_count": 4,
     "metadata": {},
     "output_type": "execute_result"
    }
   ],
   "source": [
    "np.nan\n",
    "pd.NA\n",
    "pd.NaT"
   ]
  },
  {
   "cell_type": "code",
   "execution_count": 5,
   "metadata": {},
   "outputs": [
    {
     "data": {
      "text/plain": [
       "True"
      ]
     },
     "execution_count": 5,
     "metadata": {},
     "output_type": "execute_result"
    }
   ],
   "source": [
    "np.nan == np.nan # False\n",
    "np.nan is np.nan"
   ]
  },
  {
   "cell_type": "code",
   "execution_count": 6,
   "metadata": {},
   "outputs": [],
   "source": [
    "df = pd.DataFrame(teamMembers)"
   ]
  },
  {
   "cell_type": "code",
   "execution_count": 7,
   "metadata": {},
   "outputs": [
    {
     "data": {
      "text/plain": [
       "nan"
      ]
     },
     "execution_count": 7,
     "metadata": {},
     "output_type": "execute_result"
    }
   ],
   "source": [
    "df.loc[4,\"mail\"]"
   ]
  },
  {
   "cell_type": "code",
   "execution_count": 8,
   "metadata": {},
   "outputs": [
    {
     "data": {
      "text/plain": [
       "0     False\n",
       "1      True\n",
       "2      True\n",
       "3      True\n",
       "4     False\n",
       "5      True\n",
       "6      True\n",
       "7      True\n",
       "8      True\n",
       "9     False\n",
       "10     True\n",
       "Name: mail, dtype: bool"
      ]
     },
     "execution_count": 8,
     "metadata": {},
     "output_type": "execute_result"
    }
   ],
   "source": [
    "df.isnull()\n",
    "df.notnull()\n",
    "df[\"mail\"].notnull()"
   ]
  },
  {
   "cell_type": "code",
   "execution_count": 9,
   "metadata": {},
   "outputs": [
    {
     "data": {
      "text/html": [
       "<div>\n",
       "<style scoped>\n",
       "    .dataframe tbody tr th:only-of-type {\n",
       "        vertical-align: middle;\n",
       "    }\n",
       "\n",
       "    .dataframe tbody tr th {\n",
       "        vertical-align: top;\n",
       "    }\n",
       "\n",
       "    .dataframe thead th {\n",
       "        text-align: right;\n",
       "    }\n",
       "</style>\n",
       "<table border=\"1\" class=\"dataframe\">\n",
       "  <thead>\n",
       "    <tr style=\"text-align: right;\">\n",
       "      <th></th>\n",
       "      <th>name</th>\n",
       "      <th>post</th>\n",
       "      <th>mail</th>\n",
       "    </tr>\n",
       "  </thead>\n",
       "  <tbody>\n",
       "    <tr>\n",
       "      <th>1</th>\n",
       "      <td>Arya Madhavi</td>\n",
       "      <td>Jr. Operations Officer</td>\n",
       "      <td>2022.arya.madhavi@ves.ac.in</td>\n",
       "    </tr>\n",
       "    <tr>\n",
       "      <th>2</th>\n",
       "      <td>Surel Sanap</td>\n",
       "      <td>Jr. Public Relations Officer</td>\n",
       "      <td>2022.surel.sanap@ves.ac.in</td>\n",
       "    </tr>\n",
       "    <tr>\n",
       "      <th>3</th>\n",
       "      <td>Simran Godhwani</td>\n",
       "      <td>Jr. Public Relations Officer</td>\n",
       "      <td>2022.simran.godhwani@ves.ac.in</td>\n",
       "    </tr>\n",
       "    <tr>\n",
       "      <th>5</th>\n",
       "      <td>Aditya Kumar</td>\n",
       "      <td>Jr. Web Editor</td>\n",
       "      <td>2022.aditya.sampathkumar@ves.ac.in</td>\n",
       "    </tr>\n",
       "    <tr>\n",
       "      <th>6</th>\n",
       "      <td>Karan Bhatia</td>\n",
       "      <td>Jr. Web Editor</td>\n",
       "      <td>2022.karan.bhatia@ves.ac.in</td>\n",
       "    </tr>\n",
       "    <tr>\n",
       "      <th>7</th>\n",
       "      <td>Sami Thakur</td>\n",
       "      <td>Jr. Technical Officer</td>\n",
       "      <td>2022.sami.thakur@ves.ac.in</td>\n",
       "    </tr>\n",
       "    <tr>\n",
       "      <th>8</th>\n",
       "      <td>Sagar Rajak</td>\n",
       "      <td>Jr. Technical Officer</td>\n",
       "      <td>2022.sagar.rajak@ves.ac.in</td>\n",
       "    </tr>\n",
       "    <tr>\n",
       "      <th>10</th>\n",
       "      <td>Anish Paresh Padhye</td>\n",
       "      <td>Jr. Editor</td>\n",
       "      <td>2022.anish.padhye@ves.ac.in</td>\n",
       "    </tr>\n",
       "  </tbody>\n",
       "</table>\n",
       "</div>"
      ],
      "text/plain": [
       "                   name                          post  \\\n",
       "1          Arya Madhavi        Jr. Operations Officer   \n",
       "2           Surel Sanap  Jr. Public Relations Officer   \n",
       "3       Simran Godhwani  Jr. Public Relations Officer   \n",
       "5          Aditya Kumar                Jr. Web Editor   \n",
       "6          Karan Bhatia                Jr. Web Editor   \n",
       "7           Sami Thakur         Jr. Technical Officer   \n",
       "8           Sagar Rajak         Jr. Technical Officer   \n",
       "10  Anish Paresh Padhye                    Jr. Editor   \n",
       "\n",
       "                                  mail  \n",
       "1          2022.arya.madhavi@ves.ac.in  \n",
       "2           2022.surel.sanap@ves.ac.in  \n",
       "3       2022.simran.godhwani@ves.ac.in  \n",
       "5   2022.aditya.sampathkumar@ves.ac.in  \n",
       "6          2022.karan.bhatia@ves.ac.in  \n",
       "7           2022.sami.thakur@ves.ac.in  \n",
       "8           2022.sagar.rajak@ves.ac.in  \n",
       "10         2022.anish.padhye@ves.ac.in  "
      ]
     },
     "execution_count": 9,
     "metadata": {},
     "output_type": "execute_result"
    }
   ],
   "source": [
    "filt = df[\"mail\"].notnull()\n",
    "df[filt]"
   ]
  },
  {
   "cell_type": "code",
   "execution_count": 10,
   "metadata": {},
   "outputs": [],
   "source": [
    "# KEEP THE DATA\n",
    "# DROP THE DATA\n",
    "# FILL THE DATA"
   ]
  },
  {
   "cell_type": "code",
   "execution_count": 11,
   "metadata": {},
   "outputs": [
    {
     "data": {
      "text/html": [
       "<div>\n",
       "<style scoped>\n",
       "    .dataframe tbody tr th:only-of-type {\n",
       "        vertical-align: middle;\n",
       "    }\n",
       "\n",
       "    .dataframe tbody tr th {\n",
       "        vertical-align: top;\n",
       "    }\n",
       "\n",
       "    .dataframe thead th {\n",
       "        text-align: right;\n",
       "    }\n",
       "</style>\n",
       "<table border=\"1\" class=\"dataframe\">\n",
       "  <thead>\n",
       "    <tr style=\"text-align: right;\">\n",
       "      <th></th>\n",
       "      <th>name</th>\n",
       "      <th>post</th>\n",
       "      <th>mail</th>\n",
       "    </tr>\n",
       "  </thead>\n",
       "  <tbody>\n",
       "    <tr>\n",
       "      <th>0</th>\n",
       "      <td>Shreyash Bhute</td>\n",
       "      <td>Jr. Operations Officer</td>\n",
       "      <td>NaN</td>\n",
       "    </tr>\n",
       "    <tr>\n",
       "      <th>1</th>\n",
       "      <td>Arya Madhavi</td>\n",
       "      <td>Jr. Operations Officer</td>\n",
       "      <td>2022.arya.madhavi@ves.ac.in</td>\n",
       "    </tr>\n",
       "    <tr>\n",
       "      <th>2</th>\n",
       "      <td>Surel Sanap</td>\n",
       "      <td>Jr. Public Relations Officer</td>\n",
       "      <td>2022.surel.sanap@ves.ac.in</td>\n",
       "    </tr>\n",
       "    <tr>\n",
       "      <th>3</th>\n",
       "      <td>Simran Godhwani</td>\n",
       "      <td>Jr. Public Relations Officer</td>\n",
       "      <td>2022.simran.godhwani@ves.ac.in</td>\n",
       "    </tr>\n",
       "    <tr>\n",
       "      <th>5</th>\n",
       "      <td>Aditya Kumar</td>\n",
       "      <td>Jr. Web Editor</td>\n",
       "      <td>2022.aditya.sampathkumar@ves.ac.in</td>\n",
       "    </tr>\n",
       "    <tr>\n",
       "      <th>6</th>\n",
       "      <td>Karan Bhatia</td>\n",
       "      <td>Jr. Web Editor</td>\n",
       "      <td>2022.karan.bhatia@ves.ac.in</td>\n",
       "    </tr>\n",
       "    <tr>\n",
       "      <th>7</th>\n",
       "      <td>Sami Thakur</td>\n",
       "      <td>Jr. Technical Officer</td>\n",
       "      <td>2022.sami.thakur@ves.ac.in</td>\n",
       "    </tr>\n",
       "    <tr>\n",
       "      <th>8</th>\n",
       "      <td>Sagar Rajak</td>\n",
       "      <td>Jr. Technical Officer</td>\n",
       "      <td>2022.sagar.rajak@ves.ac.in</td>\n",
       "    </tr>\n",
       "    <tr>\n",
       "      <th>9</th>\n",
       "      <td></td>\n",
       "      <td>NaN</td>\n",
       "      <td>NaN</td>\n",
       "    </tr>\n",
       "    <tr>\n",
       "      <th>10</th>\n",
       "      <td>Anish Paresh Padhye</td>\n",
       "      <td>Jr. Editor</td>\n",
       "      <td>2022.anish.padhye@ves.ac.in</td>\n",
       "    </tr>\n",
       "  </tbody>\n",
       "</table>\n",
       "</div>"
      ],
      "text/plain": [
       "                   name                          post  \\\n",
       "0        Shreyash Bhute        Jr. Operations Officer   \n",
       "1          Arya Madhavi        Jr. Operations Officer   \n",
       "2           Surel Sanap  Jr. Public Relations Officer   \n",
       "3       Simran Godhwani  Jr. Public Relations Officer   \n",
       "5          Aditya Kumar                Jr. Web Editor   \n",
       "6          Karan Bhatia                Jr. Web Editor   \n",
       "7           Sami Thakur         Jr. Technical Officer   \n",
       "8           Sagar Rajak         Jr. Technical Officer   \n",
       "9                                                 NaN   \n",
       "10  Anish Paresh Padhye                    Jr. Editor   \n",
       "\n",
       "                                  mail  \n",
       "0                                  NaN  \n",
       "1          2022.arya.madhavi@ves.ac.in  \n",
       "2           2022.surel.sanap@ves.ac.in  \n",
       "3       2022.simran.godhwani@ves.ac.in  \n",
       "5   2022.aditya.sampathkumar@ves.ac.in  \n",
       "6          2022.karan.bhatia@ves.ac.in  \n",
       "7           2022.sami.thakur@ves.ac.in  \n",
       "8           2022.sagar.rajak@ves.ac.in  \n",
       "9                                  NaN  \n",
       "10         2022.anish.padhye@ves.ac.in  "
      ]
     },
     "execution_count": 11,
     "metadata": {},
     "output_type": "execute_result"
    }
   ],
   "source": [
    "df.dropna(thresh=1)"
   ]
  },
  {
   "cell_type": "code",
   "execution_count": 12,
   "metadata": {},
   "outputs": [
    {
     "data": {
      "text/html": [
       "<div>\n",
       "<style scoped>\n",
       "    .dataframe tbody tr th:only-of-type {\n",
       "        vertical-align: middle;\n",
       "    }\n",
       "\n",
       "    .dataframe tbody tr th {\n",
       "        vertical-align: top;\n",
       "    }\n",
       "\n",
       "    .dataframe thead th {\n",
       "        text-align: right;\n",
       "    }\n",
       "</style>\n",
       "<table border=\"1\" class=\"dataframe\">\n",
       "  <thead>\n",
       "    <tr style=\"text-align: right;\">\n",
       "      <th></th>\n",
       "      <th>name</th>\n",
       "      <th>post</th>\n",
       "      <th>mail</th>\n",
       "    </tr>\n",
       "  </thead>\n",
       "  <tbody>\n",
       "    <tr>\n",
       "      <th>1</th>\n",
       "      <td>Arya Madhavi</td>\n",
       "      <td>Jr. Operations Officer</td>\n",
       "      <td>2022.arya.madhavi@ves.ac.in</td>\n",
       "    </tr>\n",
       "    <tr>\n",
       "      <th>2</th>\n",
       "      <td>Surel Sanap</td>\n",
       "      <td>Jr. Public Relations Officer</td>\n",
       "      <td>2022.surel.sanap@ves.ac.in</td>\n",
       "    </tr>\n",
       "    <tr>\n",
       "      <th>3</th>\n",
       "      <td>Simran Godhwani</td>\n",
       "      <td>Jr. Public Relations Officer</td>\n",
       "      <td>2022.simran.godhwani@ves.ac.in</td>\n",
       "    </tr>\n",
       "    <tr>\n",
       "      <th>5</th>\n",
       "      <td>Aditya Kumar</td>\n",
       "      <td>Jr. Web Editor</td>\n",
       "      <td>2022.aditya.sampathkumar@ves.ac.in</td>\n",
       "    </tr>\n",
       "    <tr>\n",
       "      <th>6</th>\n",
       "      <td>Karan Bhatia</td>\n",
       "      <td>Jr. Web Editor</td>\n",
       "      <td>2022.karan.bhatia@ves.ac.in</td>\n",
       "    </tr>\n",
       "    <tr>\n",
       "      <th>7</th>\n",
       "      <td>Sami Thakur</td>\n",
       "      <td>Jr. Technical Officer</td>\n",
       "      <td>2022.sami.thakur@ves.ac.in</td>\n",
       "    </tr>\n",
       "    <tr>\n",
       "      <th>8</th>\n",
       "      <td>Sagar Rajak</td>\n",
       "      <td>Jr. Technical Officer</td>\n",
       "      <td>2022.sagar.rajak@ves.ac.in</td>\n",
       "    </tr>\n",
       "    <tr>\n",
       "      <th>10</th>\n",
       "      <td>Anish Paresh Padhye</td>\n",
       "      <td>Jr. Editor</td>\n",
       "      <td>2022.anish.padhye@ves.ac.in</td>\n",
       "    </tr>\n",
       "  </tbody>\n",
       "</table>\n",
       "</div>"
      ],
      "text/plain": [
       "                   name                          post  \\\n",
       "1          Arya Madhavi        Jr. Operations Officer   \n",
       "2           Surel Sanap  Jr. Public Relations Officer   \n",
       "3       Simran Godhwani  Jr. Public Relations Officer   \n",
       "5          Aditya Kumar                Jr. Web Editor   \n",
       "6          Karan Bhatia                Jr. Web Editor   \n",
       "7           Sami Thakur         Jr. Technical Officer   \n",
       "8           Sagar Rajak         Jr. Technical Officer   \n",
       "10  Anish Paresh Padhye                    Jr. Editor   \n",
       "\n",
       "                                  mail  \n",
       "1          2022.arya.madhavi@ves.ac.in  \n",
       "2           2022.surel.sanap@ves.ac.in  \n",
       "3       2022.simran.godhwani@ves.ac.in  \n",
       "5   2022.aditya.sampathkumar@ves.ac.in  \n",
       "6          2022.karan.bhatia@ves.ac.in  \n",
       "7           2022.sami.thakur@ves.ac.in  \n",
       "8           2022.sagar.rajak@ves.ac.in  \n",
       "10         2022.anish.padhye@ves.ac.in  "
      ]
     },
     "execution_count": 12,
     "metadata": {},
     "output_type": "execute_result"
    }
   ],
   "source": [
    "# axis=1 i.e columns\n",
    "# axis=0 i.e rows\n",
    "df.dropna(axis=1)\n",
    "df.dropna(subset=[\"mail\"])"
   ]
  },
  {
   "cell_type": "code",
   "execution_count": 50,
   "metadata": {},
   "outputs": [
    {
     "data": {
      "text/html": [
       "<div>\n",
       "<style scoped>\n",
       "    .dataframe tbody tr th:only-of-type {\n",
       "        vertical-align: middle;\n",
       "    }\n",
       "\n",
       "    .dataframe tbody tr th {\n",
       "        vertical-align: top;\n",
       "    }\n",
       "\n",
       "    .dataframe thead th {\n",
       "        text-align: right;\n",
       "    }\n",
       "</style>\n",
       "<table border=\"1\" class=\"dataframe\">\n",
       "  <thead>\n",
       "    <tr style=\"text-align: right;\">\n",
       "      <th></th>\n",
       "      <th>name</th>\n",
       "      <th>post</th>\n",
       "      <th>mail</th>\n",
       "    </tr>\n",
       "  </thead>\n",
       "  <tbody>\n",
       "    <tr>\n",
       "      <th>0</th>\n",
       "      <td>Shreyash Bhute</td>\n",
       "      <td>Jr. Operations Officer</td>\n",
       "      <td>Place Holder</td>\n",
       "    </tr>\n",
       "    <tr>\n",
       "      <th>1</th>\n",
       "      <td>Arya Madhavi</td>\n",
       "      <td>Jr. Operations Officer</td>\n",
       "      <td>2022.arya.madhavi@ves.ac.in</td>\n",
       "    </tr>\n",
       "    <tr>\n",
       "      <th>2</th>\n",
       "      <td>Surel Sanap</td>\n",
       "      <td>Jr. Public Relations Officer</td>\n",
       "      <td>2022.surel.sanap@ves.ac.in</td>\n",
       "    </tr>\n",
       "    <tr>\n",
       "      <th>3</th>\n",
       "      <td>Simran Godhwani</td>\n",
       "      <td>Jr. Public Relations Officer</td>\n",
       "      <td>2022.simran.godhwani@ves.ac.in</td>\n",
       "    </tr>\n",
       "    <tr>\n",
       "      <th>4</th>\n",
       "      <td>Place Holder</td>\n",
       "      <td>Place Holder</td>\n",
       "      <td>Place Holder</td>\n",
       "    </tr>\n",
       "    <tr>\n",
       "      <th>5</th>\n",
       "      <td>Aditya Kumar</td>\n",
       "      <td>Jr. Web Editor</td>\n",
       "      <td>2022.aditya.sampathkumar@ves.ac.in</td>\n",
       "    </tr>\n",
       "    <tr>\n",
       "      <th>6</th>\n",
       "      <td>Karan Bhatia</td>\n",
       "      <td>Jr. Web Editor</td>\n",
       "      <td>2022.karan.bhatia@ves.ac.in</td>\n",
       "    </tr>\n",
       "    <tr>\n",
       "      <th>7</th>\n",
       "      <td>Sami Thakur</td>\n",
       "      <td>Jr. Technical Officer</td>\n",
       "      <td>2022.sami.thakur@ves.ac.in</td>\n",
       "    </tr>\n",
       "    <tr>\n",
       "      <th>8</th>\n",
       "      <td>Sagar Rajak</td>\n",
       "      <td>Jr. Technical Officer</td>\n",
       "      <td>2022.sagar.rajak@ves.ac.in</td>\n",
       "    </tr>\n",
       "    <tr>\n",
       "      <th>9</th>\n",
       "      <td></td>\n",
       "      <td>Place Holder</td>\n",
       "      <td>Place Holder</td>\n",
       "    </tr>\n",
       "    <tr>\n",
       "      <th>10</th>\n",
       "      <td>Anish Paresh Padhye</td>\n",
       "      <td>Jr. Editor</td>\n",
       "      <td>2022.anish.padhye@ves.ac.in</td>\n",
       "    </tr>\n",
       "  </tbody>\n",
       "</table>\n",
       "</div>"
      ],
      "text/plain": [
       "                   name                          post  \\\n",
       "0        Shreyash Bhute        Jr. Operations Officer   \n",
       "1          Arya Madhavi        Jr. Operations Officer   \n",
       "2           Surel Sanap  Jr. Public Relations Officer   \n",
       "3       Simran Godhwani  Jr. Public Relations Officer   \n",
       "4          Place Holder                  Place Holder   \n",
       "5          Aditya Kumar                Jr. Web Editor   \n",
       "6          Karan Bhatia                Jr. Web Editor   \n",
       "7           Sami Thakur         Jr. Technical Officer   \n",
       "8           Sagar Rajak         Jr. Technical Officer   \n",
       "9                                        Place Holder   \n",
       "10  Anish Paresh Padhye                    Jr. Editor   \n",
       "\n",
       "                                  mail  \n",
       "0                         Place Holder  \n",
       "1          2022.arya.madhavi@ves.ac.in  \n",
       "2           2022.surel.sanap@ves.ac.in  \n",
       "3       2022.simran.godhwani@ves.ac.in  \n",
       "4                         Place Holder  \n",
       "5   2022.aditya.sampathkumar@ves.ac.in  \n",
       "6          2022.karan.bhatia@ves.ac.in  \n",
       "7           2022.sami.thakur@ves.ac.in  \n",
       "8           2022.sagar.rajak@ves.ac.in  \n",
       "9                         Place Holder  \n",
       "10         2022.anish.padhye@ves.ac.in  "
      ]
     },
     "execution_count": 50,
     "metadata": {},
     "output_type": "execute_result"
    }
   ],
   "source": [
    "df.fillna(\"Place Holder\")"
   ]
  },
  {
   "cell_type": "code",
   "execution_count": 58,
   "metadata": {},
   "outputs": [],
   "source": [
    "prices={\"economy\":25000,\"buisness\":100000,\"first\":200000}"
   ]
  },
  {
   "cell_type": "code",
   "execution_count": 59,
   "metadata": {},
   "outputs": [],
   "source": [
    "pr = pd.Series(prices)"
   ]
  },
  {
   "cell_type": "code",
   "execution_count": 60,
   "metadata": {},
   "outputs": [
    {
     "data": {
      "text/plain": [
       "<bound method NDFrame.interpolate of economy      25000\n",
       "buisness    100000\n",
       "first       200000\n",
       "dtype: int64>"
      ]
     },
     "execution_count": 60,
     "metadata": {},
     "output_type": "execute_result"
    }
   ],
   "source": [
    "pr.mean()\n",
    "pr.interpolate"
   ]
  },
  {
   "cell_type": "code",
   "execution_count": null,
   "metadata": {},
   "outputs": [],
   "source": []
  }
 ],
 "metadata": {
  "kernelspec": {
   "display_name": "Python 3 (ipykernel)",
   "language": "python",
   "name": "python3"
  },
  "language_info": {
   "codemirror_mode": {
    "name": "ipython",
    "version": 3
   },
   "file_extension": ".py",
   "mimetype": "text/x-python",
   "name": "python",
   "nbconvert_exporter": "python",
   "pygments_lexer": "ipython3",
   "version": "3.10.0"
  }
 },
 "nbformat": 4,
 "nbformat_minor": 4
}
