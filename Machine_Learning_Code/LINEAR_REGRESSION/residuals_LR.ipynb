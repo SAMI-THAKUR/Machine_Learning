{
 "cells": [
  {
   "cell_type": "markdown",
   "id": "4edff0d8-2f63-4be7-bd8b-78ca5c976665",
   "metadata": {},
   "source": [
    "## Residuals\n",
    "\n",
    "Revisiting Anscombe's Quartet: https://en.wikipedia.org/wiki/Anscombe%27s_quartet\n",
    "\n",
    "<img src=\"https://upload.wikimedia.org/wikipedia/commons/thumb/e/ec/Anscombe%27s_quartet_3.svg/850px-Anscombe%27s_quartet_3.svg.png\">"
   ]
  }
 ],
 "metadata": {
  "kernelspec": {
   "display_name": "Python 3 (ipykernel)",
   "language": "python",
   "name": "python3"
  },
  "language_info": {
   "codemirror_mode": {
    "name": "ipython",
    "version": 3
   },
   "file_extension": ".py",
   "mimetype": "text/x-python",
   "name": "python",
   "nbconvert_exporter": "python",
   "pygments_lexer": "ipython3",
   "version": "3.10.0"
  }
 },
 "nbformat": 4,
 "nbformat_minor": 5
}
