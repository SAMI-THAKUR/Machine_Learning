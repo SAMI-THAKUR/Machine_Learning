{
 "cells": [
  {
   "cell_type": "code",
   "execution_count": null,
   "id": "e0ff72db-1d20-4f61-a796-567b4d49c804",
   "metadata": {},
   "outputs": [],
   "source": [
    "import numpy as numpy\n",
    "\n",
    "# --- searching --- #\n",
    "l = [1, 4, 9, 16, 25, 36, 49, 64, 81, 36]\n",
    "n = numpy.array(l)\n",
    "print(n)\n",
    "\n",
    "# --- 1D array --- #\n",
    "print(\"1D array\")\n",
    "x = numpy.where(n == 36) # --> returns a tuple of arrays with index and type\n",
    "print(x[0])\n",
    "print(n[x[0]])\n",
    "print(numpy.searchsorted(n, 36))  # --> returns index in sorted array\n",
    "\n",
    "y = numpy.where(n%2 == 0) # --> returns a tuple of arrays with index and type\n",
    "print(y) # --> returns a tuple of arrays with index and type\n",
    "print(n[y[0]]) # --> returns a tuple of arrays with index and type\n"
   ]
  }
 ],
 "metadata": {
  "kernelspec": {
   "display_name": "Python 3 (ipykernel)",
   "language": "python",
   "name": "python3"
  },
  "language_info": {
   "codemirror_mode": {
    "name": "ipython",
    "version": 3
   },
   "file_extension": ".py",
   "mimetype": "text/x-python",
   "name": "python",
   "nbconvert_exporter": "python",
   "pygments_lexer": "ipython3",
   "version": "3.12.0"
  }
 },
 "nbformat": 4,
 "nbformat_minor": 5
}
