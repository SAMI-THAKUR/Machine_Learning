{
 "cells": [
  {
   "cell_type": "code",
   "execution_count": 1,
   "id": "e0ff72db-1d20-4f61-a796-567b4d49c804",
   "metadata": {},
   "outputs": [
    {
     "name": "stdout",
     "output_type": "stream",
     "text": [
      "[ 1  4  9 16 25 36 49 64 81 36]\n",
      "1D array\n",
      "[5 9]\n",
      "[36 36]\n",
      "5\n",
      "(array([1, 3, 5, 7, 9], dtype=int64),)\n",
      "[ 4 16 36 64 36]\n"
     ]
    }
   ],
   "source": [
    "import numpy as numpy\n",
    "\n",
    "# --- searching --- #\n",
    "l = [1, 4, 9, 16, 25, 36, 49, 64, 81, 36]\n",
    "n = numpy.array(l)\n",
    "print(n)\n",
    "\n",
    "# --- 1D array --- #\n",
    "print(\"1D array\")\n",
    "x = numpy.where(n == 36) # --> returns a tuple of arrays with index and type\n",
    "print(x[0])\n",
    "print(n[x[0]])\n",
    "print(numpy.searchsorted(n, 36))  # --> returns index in sorted array\n",
    "\n",
    "y = numpy.where(n%2 == 0) # --> returns a tuple of arrays with index and type\n",
    "print(y) # --> returns a tuple of arrays with index and type\n",
    "print(n[y[0]]) # --> returns a tuple of arrays with index and type\n"
   ]
  },
  {
   "cell_type": "code",
   "execution_count": null,
   "id": "1ad9de29-8b3c-4be2-b270-9633cb899a52",
   "metadata": {},
   "outputs": [],
   "source": []
  }
 ],
 "metadata": {
  "kernelspec": {
   "display_name": "Python 3 (ipykernel)",
   "language": "python",
   "name": "python3"
  },
  "language_info": {
   "codemirror_mode": {
    "name": "ipython",
    "version": 3
   },
   "file_extension": ".py",
   "mimetype": "text/x-python",
   "name": "python",
   "nbconvert_exporter": "python",
   "pygments_lexer": "ipython3",
   "version": "3.12.0"
  }
 },
 "nbformat": 4,
 "nbformat_minor": 5
}
