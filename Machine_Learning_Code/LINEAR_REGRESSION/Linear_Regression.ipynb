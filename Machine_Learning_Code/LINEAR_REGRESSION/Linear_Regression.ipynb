{
 "cells": [
  {
   "cell_type": "code",
   "execution_count": 1,
   "id": "d6d03c5e-8276-40ec-ace3-9dcc4b1921fa",
   "metadata": {},
   "outputs": [],
   "source": [
    "import numpy as np\n",
    "import matplotlib.pyplot as plt \n",
    "import pandas as pd \n",
    "import seaborn as sns \n",
    "from sklearn.linear_model import LinearRegression\n",
    "from sklearn.model_selection import train_test_split"
   ]
  },
  {
   "cell_type": "code",
   "execution_count": 2,
   "id": "de64d4a7-4547-4e44-b0f0-af2f12975f42",
   "metadata": {},
   "outputs": [],
   "source": [
    "url=\"https://drive.google.com/file/d/1VD06DjyGegNAWdJxFqKW-BtNsSbZsbez/view?usp=drive_link\"\n",
    "url='https://drive.google.com/uc?id=' + url.split('/')[-2]\n",
    "ad = pd.read_csv(url)"
   ]
  },
  {
   "cell_type": "code",
   "execution_count": 3,
   "id": "72ef2080-863e-4165-b6ad-087615bf6501",
   "metadata": {},
   "outputs": [],
   "source": [
    "X = ad.loc[: , 'TV':'newspaper']\n",
    "y = ad['sales']"
   ]
  },
  {
   "cell_type": "markdown",
   "id": "50d2a1e0-9892-479a-bd4c-2c6fc5f8070d",
   "metadata": {},
   "source": [
    "<h1><mark>MODEL TRAINING</mark></h1>"
   ]
  },
  {
   "cell_type": "code",
   "execution_count": 4,
   "id": "bd5b3f18-eac0-4a67-927e-da3003bd9a9b",
   "metadata": {},
   "outputs": [],
   "source": [
    "model = LinearRegression()\n",
    "model.fit(X, y)\n",
    "test_predictions = model.predict(X)"
   ]
  },
  {
   "cell_type": "markdown",
   "id": "efee2ceb-7d33-461c-a308-a22fc6c668bd",
   "metadata": {},
   "source": [
    "<h1><mark>REGRESSION EQUATION</mark></h1>"
   ]
  },
  {
   "cell_type": "code",
   "execution_count": 7,
   "id": "0996151f-009d-4abd-820b-bc5d85626397",
   "metadata": {},
   "outputs": [
    {
     "name": "stdout",
     "output_type": "stream",
     "text": [
      "Regression Equation:\n",
      "y = 2.9389 + 0.0458 * x1 + 0.1885 * x2^2 + -0.0010 * x3^3\n"
     ]
    }
   ],
   "source": [
    "coefficients = model.coef_\n",
    "# Get intercept\n",
    "intercept = model.intercept_\n",
    "# Print equation\n",
    "print(\"Regression Equation:\")\n",
    "print(\"y = {:.4f} + {:.4f} * x1 + {:.4f} * x2^2 + {:.4f} * x3^3\".format(intercept, coefficients[0], coefficients[1], coefficients[2]))"
   ]
  },
  {
   "cell_type": "markdown",
   "id": "2b899cdf-be0f-47de-9611-8bff002fd873",
   "metadata": {},
   "source": [
    "<h2><mark>Serialize MODEL using JOBLIB</mark></h2>"
   ]
  },
  {
   "cell_type": "code",
   "execution_count": 8,
   "id": "613e1b4d-e254-4b3e-a347-3b0e144a8c5e",
   "metadata": {},
   "outputs": [],
   "source": [
    "from joblib import dump,load"
   ]
  },
  {
   "cell_type": "code",
   "execution_count": 9,
   "id": "28325bb6-50ca-4f6d-80ac-95d7dc7ff498",
   "metadata": {},
   "outputs": [
    {
     "data": {
      "text/plain": [
       "['final_sales_model.joblib']"
      ]
     },
     "execution_count": 9,
     "metadata": {},
     "output_type": "execute_result"
    }
   ],
   "source": [
    "dump(model , \"final_sales_model.joblib\")"
   ]
  },
  {
   "cell_type": "code",
   "execution_count": 10,
   "id": "8571b139-5eda-45cf-bd5b-70766b50dd26",
   "metadata": {},
   "outputs": [],
   "source": [
    "loaded = load('final_sales_model.joblib')"
   ]
  },
  {
   "cell_type": "code",
   "execution_count": 11,
   "id": "df4f290a-651a-4321-b2fe-5b4f870209ef",
   "metadata": {},
   "outputs": [
    {
     "data": {
      "text/plain": [
       "array([ 0.04576465,  0.18853002, -0.00103749])"
      ]
     },
     "execution_count": 11,
     "metadata": {},
     "output_type": "execute_result"
    }
   ],
   "source": [
    "loaded.coef_"
   ]
  },
  {
   "cell_type": "code",
   "execution_count": 14,
   "id": "4c5daf30-bebc-4269-8c37-5d1f7709beda",
   "metadata": {},
   "outputs": [],
   "source": [
    "campaign = [[149 , 22 , 12]]"
   ]
  },
  {
   "cell_type": "code",
   "execution_count": 15,
   "id": "f5c8ace3-de2c-484f-8a4f-3fcc8259cd7e",
   "metadata": {},
   "outputs": [
    {
     "name": "stderr",
     "output_type": "stream",
     "text": [
      "C:\\Users\\SAMI\\AppData\\Local\\Programs\\Python\\Python310\\lib\\site-packages\\sklearn\\base.py:465: UserWarning: X does not have valid feature names, but LinearRegression was fitted with feature names\n",
      "  warnings.warn(\n"
     ]
    },
    {
     "data": {
      "text/plain": [
       "array([13.893032])"
      ]
     },
     "execution_count": 15,
     "metadata": {},
     "output_type": "execute_result"
    }
   ],
   "source": [
    "loaded.predict(campaign)"
   ]
  },
  {
   "cell_type": "code",
   "execution_count": 16,
   "id": "07b8eb1d-0e3a-42b9-a60a-7c9aa4bd8ce9",
   "metadata": {},
   "outputs": [
    {
     "name": "stderr",
     "output_type": "stream",
     "text": [
      "C:\\Users\\SAMI\\AppData\\Local\\Programs\\Python\\Python310\\lib\\site-packages\\sklearn\\base.py:465: UserWarning: X does not have valid feature names, but LinearRegression was fitted with feature names\n",
      "  warnings.warn(\n"
     ]
    },
    {
     "data": {
      "text/plain": [
       "array([13.893032])"
      ]
     },
     "execution_count": 16,
     "metadata": {},
     "output_type": "execute_result"
    }
   ],
   "source": [
    "model.predict(campaign)"
   ]
  }
 ],
 "metadata": {
  "kernelspec": {
   "display_name": "Python 3 (ipykernel)",
   "language": "python",
   "name": "python3"
  },
  "language_info": {
   "codemirror_mode": {
    "name": "ipython",
    "version": 3
   },
   "file_extension": ".py",
   "mimetype": "text/x-python",
   "name": "python",
   "nbconvert_exporter": "python",
   "pygments_lexer": "ipython3",
   "version": "3.11.5"
  }
 },
 "nbformat": 4,
 "nbformat_minor": 5
}
