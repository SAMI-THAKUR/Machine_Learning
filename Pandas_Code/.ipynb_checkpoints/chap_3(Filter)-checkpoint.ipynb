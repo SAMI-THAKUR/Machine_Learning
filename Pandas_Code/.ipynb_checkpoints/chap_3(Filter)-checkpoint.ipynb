{
 "cells": [
  {
   "cell_type": "code",
   "execution_count": 4,
   "id": "8c52a047-d055-451a-b493-24fb51d0e3b2",
   "metadata": {},
   "outputs": [],
   "source": [
    "import pandas as pd"
   ]
  },
  {
   "cell_type": "code",
   "execution_count": 5,
   "id": "4c0dae43-57cf-4e82-aaf9-8d8c49b09562",
   "metadata": {},
   "outputs": [],
   "source": [
    "teamMembers = [\n",
    "    { \"name\": \"Shreyash Bhute\", \"post\": \"Jr. Operations Officer\", \"mail\": \"2022.shreyash.bhute@ves.ac.in\" },\n",
    "  { \"name\": \"Arya Madhavi\", \"post\": \"Jr. Operations Officer\", \"mail\": \"2022.arya.madhavi@ves.ac.in\" },\n",
    "  { \"name\": \"Shubham Jha\", \"post\": \"Jr. Operations Officer\", \"mail\": \"D10C\" },\n",
    "  { \"name\": \"Shravani Patil\", \"post\": \"Jr. Operations Officer\", \"mail\": \"2022.shravani.patil@ves.ac.in\" },\n",
    "  { \"name\": \"Sarthak Harade\", \"post\": \"Jr. Operations Officer\", \"mail\": \"2022.sarthak.harade@ves.ac.in\" },\n",
    "  { \"name\": \"T. Jennifer Cheriyan\", \"post\": \"Jr. Operations Officer\", \"mail\": \"2022.jennifer.thozhuvathinkal@ves.ac.in\" },\n",
    "  { \"name\": \"Nimish Chug\", \"post\": \"Jr. Operations Officer\", \"mail\": \"2022.nimish.chug@ves.ac.in\" },\n",
    "  { \"name\": \"Nikunj Pal\", \"post\": \"Jr. Operations Officer\", \"mail\": \"2022.nikunj.pal@ves.ac.in\" },\n",
    "  { \"name\": \"Surel Sanap\", \"post\": \"Jr. Public Relations Officer\", \"mail\": \"2022.surel.sanap@ves.ac.in\" },\n",
    "  { \"name\": \"Simran Godhwani\", \"post\": \"Jr. Public Relations Officer\", \"mail\": \"2022.simran.godhwani@ves.ac.in\" },\n",
    "  { \"name\": \"Taniya Vallecha\", \"post\": \"Jr. Public Relations Officer\", \"mail\": \"2022.taniya.vallecha@ves.ac.in\" },\n",
    "  { \"name\": \"Rohit Makattil\", \"post\": \"Jr. Public Relations Officer\", \"mail\": \"2022.rohit.makattil@ves.ac.in\" },\n",
    "  { \"name\": \"Prathmesh Palve\", \"post\": \"Jr. Public Relations Officer\", \"mail\": \"2022.prathamesh.palve@ves.ac.in\" },\n",
    "  { \"name\": \"Anushka Nilesh Shahane\", \"post\": \"Jr. Public Relations Officer\", \"mail\": \"2022.anushka.shahane@ves.ac.in\" },\n",
    "  { \"name\": \"Shravani Sawant\", \"post\": \"Jr. Public Relations Officer\", \"mail\": \"2022.shravani.sawant@ves.ac.in\" },\n",
    "  { \"name\": \"Aditya Kumar\", \"post\": \"Jr. Web Editor\", \"mail\": \"2022.aditya.sampathkumar@ves.ac.in\" },\n",
    "  { \"name\": \"Karan Bhatia\", \"post\": \"Jr. Web Editor\", \"mail\": \"2022.karan.bhatia@ves.ac.in\" },\n",
    "  { \"name\": \"Abhijeet Pandey\", \"post\": \"Jr. Web Editor\", \"mail\": \"\" },\n",
    "  { \"name\": \"Ayush Bohra\", \"post\": \"Jr. Web Editor\", \"mail\": \"2022.ayush.bohra@ves.ac.in\" },\n",
    "  { \"name\": \"Prajjwal Pandey\", \"post\": \"Jr. Web Editor\", \"mail\": \"2022.prajjwal.pandey@ves.ac.in\" },\n",
    "  { \"name\": \"Sami Thakur\", \"post\": \"Jr. Technical Officer\", \"mail\": \"2022.sami.thakur@ves.ac.in\" },\n",
    "  { \"name\": \"Sagar Rajak\", \"post\": \"Jr. Technical Officer\", \"mail\": \"2022.sagar.rajak@ves.ac.in\" },\n",
    "  { \"name\": \"Aadil Nasir Shah\", \"post\": \"Jr. Technical Officer\", \"mail\": \"2022.aadil.shah@ves.ac.in\" },\n",
    "  { \"name\": \"Vedika Walhe\", \"post\": \"Jr. Technical Officer\", \"mail\": \"2022.vedika.walhe@ves.ac.in\" },\n",
    "  { \"name\": \"Garv Chawla\", \"post\": \"Jr. Technical Officer\", \"mail\": \"2022.garv.chawla@ves.ac.in\" },\n",
    "  { \"name\": \"Anish Paresh Padhye\", \"post\": \"Jr. Editor\", \"mail\": \"2022.anish.padhye@ves.ac.in\" },\n",
    "  { \"name\": \"Simran Karamchandani\", \"post\": \"Jr. Editor\", \"mail\": \"2022.simran.karamchandani@ves.ac.in\" },\n",
    "  { \"name\": \"Aryan Singh\", \"post\": \"Jr. Editor\", \"mail\": \"2022.aryan.singh@ves.ac.in\" },\n",
    "]"
   ]
  },
  {
   "cell_type": "code",
   "execution_count": null,
   "id": "64b1a13c-5fd8-4dc4-8a21-15fba75513a7",
   "metadata": {},
   "outputs": [],
   "source": [
    "df = pd.DataFrame(teamMembers)\n",
    "df.set_index(\"mail\")"
   ]
  },
  {
   "cell_type": "code",
   "execution_count": 7,
   "id": "280cf1fe-8d4c-4b9d-a3cb-4f355bdc26fe",
   "metadata": {},
   "outputs": [
    {
     "data": {
      "text/plain": [
       "25            2022.anish.padhye@ves.ac.in\n",
       "26    2022.simran.karamchandani@ves.ac.in\n",
       "27             2022.aryan.singh@ves.ac.in\n",
       "Name: mail, dtype: object"
      ]
     },
     "execution_count": 7,
     "metadata": {},
     "output_type": "execute_result"
    }
   ],
   "source": [
    "filt = (df[\"post\"] == \"Jr. Editor\")\n",
    "# df[filt]\n",
    "# df[df[\"post\"] == \"Jr. Editor\"]\n",
    "df.loc[filt , \"mail\"]"
   ]
  },
  {
   "cell_type": "code",
   "execution_count": 14,
   "id": "ae20937e-0786-44a5-a861-9479ead1904f",
   "metadata": {},
   "outputs": [
    {
     "data": {
      "text/html": [
       "<div>\n",
       "<style scoped>\n",
       "    .dataframe tbody tr th:only-of-type {\n",
       "        vertical-align: middle;\n",
       "    }\n",
       "\n",
       "    .dataframe tbody tr th {\n",
       "        vertical-align: top;\n",
       "    }\n",
       "\n",
       "    .dataframe thead th {\n",
       "        text-align: right;\n",
       "    }\n",
       "</style>\n",
       "<table border=\"1\" class=\"dataframe\">\n",
       "  <thead>\n",
       "    <tr style=\"text-align: right;\">\n",
       "      <th></th>\n",
       "      <th>name</th>\n",
       "      <th>post</th>\n",
       "      <th>mail</th>\n",
       "    </tr>\n",
       "  </thead>\n",
       "  <tbody>\n",
       "    <tr>\n",
       "      <th>20</th>\n",
       "      <td>Sami Thakur</td>\n",
       "      <td>Jr. Technical Officer</td>\n",
       "      <td>2022.sami.thakur@ves.ac.in</td>\n",
       "    </tr>\n",
       "    <tr>\n",
       "      <th>21</th>\n",
       "      <td>Sagar Rajak</td>\n",
       "      <td>Jr. Technical Officer</td>\n",
       "      <td>2022.sagar.rajak@ves.ac.in</td>\n",
       "    </tr>\n",
       "  </tbody>\n",
       "</table>\n",
       "</div>"
      ],
      "text/plain": [
       "           name                   post                        mail\n",
       "20  Sami Thakur  Jr. Technical Officer  2022.sami.thakur@ves.ac.in\n",
       "21  Sagar Rajak  Jr. Technical Officer  2022.sagar.rajak@ves.ac.in"
      ]
     },
     "execution_count": 14,
     "metadata": {},
     "output_type": "execute_result"
    }
   ],
   "source": [
    "# --- Multiple FIlter --- #\n",
    "f1 = (df[\"post\"] == \"Jr. Technical Officer\")\n",
    "f2  = (df[\"name\"].str[0]== 'S')\n",
    "df.loc[ f2&f1 ]"
   ]
  },
  {
   "cell_type": "code",
   "execution_count": null,
   "id": "48b2b6e6-d7c7-4bdc-a92a-76b79b2356d8",
   "metadata": {},
   "outputs": [],
   "source": []
  }
 ],
 "metadata": {
  "kernelspec": {
   "display_name": "Python 3 (ipykernel)",
   "language": "python",
   "name": "python3"
  },
  "language_info": {
   "codemirror_mode": {
    "name": "ipython",
    "version": 3
   },
   "file_extension": ".py",
   "mimetype": "text/x-python",
   "name": "python",
   "nbconvert_exporter": "python",
   "pygments_lexer": "ipython3",
   "version": "3.12.0"
  }
 },
 "nbformat": 4,
 "nbformat_minor": 5
}
