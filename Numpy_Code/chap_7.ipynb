{
 "cells": [
  {
   "cell_type": "code",
   "execution_count": 1,
   "id": "024bc77e-a713-4317-a502-cc3ee46714ba",
   "metadata": {},
   "outputs": [
    {
     "name": "stdout",
     "output_type": "stream",
     "text": [
      "[9 4 1 6 3 8 5 2 7]\n",
      "[1 2 3 4 5 6 7 8 9]\n",
      "[[9 4 1]\n",
      " [6 3 8]\n",
      " [5 2 7]]\n",
      "[[1 4 9]\n",
      " [3 6 8]\n",
      " [2 5 7]]\n",
      "['banana' 'cherry' 'apple']\n",
      "['apple' 'banana' 'cherry']\n",
      "[ True False  True]\n",
      "[False  True  True]\n"
     ]
    }
   ],
   "source": [
    "import numpy as numpy\n",
    "\n",
    "# --- sorting --- #\n",
    "\n",
    "li = [9, 4, 1, 6, 3, 8, 5, 2, 7]\n",
    "n = numpy.array(li)\n",
    "\n",
    "print(n)\n",
    "n2 = numpy.sort(n)\n",
    "print(n2)\n",
    "\n",
    "# --- 2D array --- #\n",
    "n1 = numpy.array([[9, 4, 1], [6, 3, 8], [5, 2, 7]])\n",
    "print(n1)\n",
    "print(numpy.sort(n1))\n",
    "\n",
    "# --- Alphabetical sorting --- #\n",
    "n3 = numpy.array(['banana', 'cherry', 'apple'])\n",
    "print(n3)\n",
    "print(numpy.sort(n3))\n",
    "\n",
    "# --- Boolean sorting --- #\n",
    "n4 = numpy.array([True, False, True])\n",
    "print(n4)\n",
    "print(numpy.sort(n4))\n",
    "\n",
    "\n",
    "\n"
   ]
  },
  {
   "cell_type": "code",
   "execution_count": null,
   "id": "ef6407a0-ec4a-432a-921f-79392f653586",
   "metadata": {},
   "outputs": [],
   "source": []
  }
 ],
 "metadata": {
  "kernelspec": {
   "display_name": "Python 3 (ipykernel)",
   "language": "python",
   "name": "python3"
  },
  "language_info": {
   "codemirror_mode": {
    "name": "ipython",
    "version": 3
   },
   "file_extension": ".py",
   "mimetype": "text/x-python",
   "name": "python",
   "nbconvert_exporter": "python",
   "pygments_lexer": "ipython3",
   "version": "3.12.0"
  }
 },
 "nbformat": 4,
 "nbformat_minor": 5
}
