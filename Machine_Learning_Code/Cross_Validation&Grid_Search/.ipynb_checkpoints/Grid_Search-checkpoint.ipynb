{
 "cells": [
  {
   "cell_type": "code",
   "execution_count": 1,
   "id": "56af8636-bdd3-4d71-9aff-1af3209a0eee",
   "metadata": {},
   "outputs": [],
   "source": [
    "import numpy as np\n",
    "import pandas as pd\n",
    "import matplotlib.pyplot as plt\n",
    "import seaborn as sns"
   ]
  },
  {
   "cell_type": "code",
   "execution_count": 5,
   "id": "e17d125d-8c0d-415c-919f-cb61bfa233c1",
   "metadata": {},
   "outputs": [],
   "source": [
    "from sklearn.linear_model import ElasticNet"
   ]
  },
  {
   "cell_type": "code",
   "execution_count": 6,
   "id": "4c53793b-1a56-4f9d-8733-357a601e9279",
   "metadata": {},
   "outputs": [],
   "source": [
    "url = 'https://drive.google.com/file/d/1VD06DjyGegNAWdJxFqKW-BtNsSbZsbez/view?usp=drive_link'\n",
    "url = 'https://drive.google.com/uc?id='+ url.split('/')[-2]\n",
    "df = pd.read_csv(url)"
   ]
  },
  {
   "cell_type": "code",
   "execution_count": 7,
   "id": "cd8f1c70-1c0b-4888-9de0-1acd526bf167",
   "metadata": {},
   "outputs": [],
   "source": [
    "## CREATE X and y\n",
    "X = df.drop('sales',axis=1)\n",
    "y = df['sales']\n",
    "\n",
    "# TRAIN TEST SPLIT\n",
    "from sklearn.model_selection import train_test_split\n",
    "X_train, X_test, y_train, y_test = train_test_split(X, y, test_size=0.3, random_state=101)\n",
    "\n",
    "# SCALE DATA\n",
    "from sklearn.preprocessing import StandardScaler\n",
    "scaler = StandardScaler()\n",
    "scaler.fit(X_train)\n",
    "X_train = scaler.transform(X_train)\n",
    "X_test = scaler.transform(X_test)"
   ]
  },
  {
   "cell_type": "code",
   "execution_count": 8,
   "id": "f74ffc13-a1cb-45d1-b792-df5ba7d2cc30",
   "metadata": {},
   "outputs": [],
   "source": [
    "base_elastic_model = ElasticNet()"
   ]
  },
  {
   "cell_type": "markdown",
   "id": "8f9f3b93-78d5-49b8-a136-2f2573e6d13c",
   "metadata": {},
   "source": [
    "## Grid Search\r\n",
    "\r\n",
    "A search consists of:\r\n",
    "\r\n",
    "* an estimator (regressor or classifier such as sklearn.svm.SVC());\r\n",
    "* a parameter space;\r\n",
    "* a method for searching or sampling candidates;\r\n",
    "* a cross-validation scheme \r\n",
    "* a score function."
   ]
  },
  {
   "cell_type": "code",
   "execution_count": null,
   "id": "f27778bd-f692-4dc0-90f8-b42d68e03066",
   "metadata": {},
   "outputs": [],
   "source": []
  }
 ],
 "metadata": {
  "kernelspec": {
   "display_name": "Python 3 (ipykernel)",
   "language": "python",
   "name": "python3"
  },
  "language_info": {
   "codemirror_mode": {
    "name": "ipython",
    "version": 3
   },
   "file_extension": ".py",
   "mimetype": "text/x-python",
   "name": "python",
   "nbconvert_exporter": "python",
   "pygments_lexer": "ipython3",
   "version": "3.10.0"
  }
 },
 "nbformat": 4,
 "nbformat_minor": 5
}
