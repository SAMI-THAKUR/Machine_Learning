{
 "cells": [
  {
   "cell_type": "code",
   "execution_count": null,
   "id": "f1323c2a-fc2b-42e4-ac90-ee643011cd46",
   "metadata": {},
   "outputs": [],
   "source": [
    "import pandas as pd"
   ]
  },
  {
   "cell_type": "code",
   "execution_count": null,
   "id": "5ba10c65-acda-48f7-a330-f5f2265410c3",
   "metadata": {},
   "outputs": [],
   "source": [
    "teamMembers = [\n",
    "    { \"name\": \"Shreyash Bhute\", \"post\": \"Jr. Operations Officer\", \"mail\": \"2022.shreyash.bhute@ves.ac.in\" },\n",
    "  { \"name\": \"Arya Madhavi\", \"post\": \"Jr. Operations Officer\", \"mail\": \"2022.arya.madhavi@ves.ac.in\" },\n",
    "  { \"name\": \"Shubham Jha\", \"post\": \"Jr. Operations Officer\", \"mail\": \"D10C\" },\n",
    "  { \"name\": \"Shravani Patil\", \"post\": \"Jr. Operations Officer\", \"mail\": \"2022.shravani.patil@ves.ac.in\" },\n",
    "  { \"name\": \"Sarthak Harade\", \"post\": \"Jr. Operations Officer\", \"mail\": \"2022.sarthak.harade@ves.ac.in\" },\n",
    "  { \"name\": \"T. Jennifer Cheriyan\", \"post\": \"Jr. Operations Officer\", \"mail\": \"2022.jennifer.thozhuvathinkal@ves.ac.in\" },\n",
    "  { \"name\": \"Nimish Chug\", \"post\": \"Jr. Operations Officer\", \"mail\": \"2022.nimish.chug@ves.ac.in\" },\n",
    "  { \"name\": \"Nikunj Pal\", \"post\": \"Jr. Operations Officer\", \"mail\": \"2022.nikunj.pal@ves.ac.in\" },\n",
    "  { \"name\": \"Surel Sanap\", \"post\": \"Jr. Public Relations Officer\", \"mail\": \"2022.surel.sanap@ves.ac.in\" },\n",
    "  { \"name\": \"Simran Godhwani\", \"post\": \"Jr. Public Relations Officer\", \"mail\": \"2022.simran.godhwani@ves.ac.in\" },\n",
    "  { \"name\": \"Taniya Vallecha\", \"post\": \"Jr. Public Relations Officer\", \"mail\": \"2022.taniya.vallecha@ves.ac.in\" },\n",
    "  { \"name\": \"Rohit Makattil\", \"post\": \"Jr. Public Relations Officer\", \"mail\": \"2022.rohit.makattil@ves.ac.in\" },\n",
    "  { \"name\": \"Prathmesh Palve\", \"post\": \"Jr. Public Relations Officer\", \"mail\": \"2022.prathamesh.palve@ves.ac.in\" },\n",
    "  { \"name\": \"Anushka Nilesh Shahane\", \"post\": \"Jr. Public Relations Officer\", \"mail\": \"2022.anushka.shahane@ves.ac.in\" },\n",
    "  { \"name\": \"Shravani Sawant\", \"post\": \"Jr. Public Relations Officer\", \"mail\": \"2022.shravani.sawant@ves.ac.in\" },\n",
    "  { \"name\": \"Aditya Kumar\", \"post\": \"Jr. Web Editor\", \"mail\": \"2022.aditya.sampathkumar@ves.ac.in\" },\n",
    "  { \"name\": \"Karan Bhatia\", \"post\": \"Jr. Web Editor\", \"mail\": \"2022.karan.bhatia@ves.ac.in\" },\n",
    "  { \"name\": \"Abhijeet Pandey\", \"post\": \"Jr. Web Editor\", \"mail\": \"\" },\n",
    "  { \"name\": \"Ayush Bohra\", \"post\": \"Jr. Web Editor\", \"mail\": \"2022.ayush.bohra@ves.ac.in\" },\n",
    "  { \"name\": \"Prajjwal Pandey\", \"post\": \"Jr. Web Editor\", \"mail\": \"2022.prajjwal.pandey@ves.ac.in\" },\n",
    "  { \"name\": \"Sami Thakur\", \"post\": \"Jr. Technical Officer\", \"mail\": \"2022.sami.thakur@ves.ac.in\" },\n",
    "  { \"name\": \"Sagar Rajak\", \"post\": \"Jr. Technical Officer\", \"mail\": \"2022.sagar.rajak@ves.ac.in\" },\n",
    "  { \"name\": \"Aadil Nasir Shah\", \"post\": \"Jr. Technical Officer\", \"mail\": \"2022.aadil.shah@ves.ac.in\" },\n",
    "  { \"name\": \"Vedika Walhe\", \"post\": \"Jr. Technical Officer\", \"mail\": \"2022.vedika.walhe@ves.ac.in\" },\n",
    "  { \"name\": \"Garv Chawla\", \"post\": \"Jr. Technical Officer\", \"mail\": \"2022.garv.chawla@ves.ac.in\" },\n",
    "  { \"name\": \"Anish Paresh Padhye\", \"post\": \"Jr. Editor\", \"mail\": \"2022.anish.padhye@ves.ac.in\" },\n",
    "  { \"name\": \"Simran Karamchandani\", \"post\": \"Jr. Editor\", \"mail\": \"2022.simran.karamchandani@ves.ac.in\" },\n",
    "  { \"name\": \"Aryan Singh\", \"post\": \"Jr. Editor\", \"mail\": \"2022.aryan.singh@ves.ac.in\" },\n",
    "]"
   ]
  }
 ],
 "metadata": {
  "kernelspec": {
   "display_name": "Python 3 (ipykernel)",
   "language": "python",
   "name": "python3"
  },
  "language_info": {
   "codemirror_mode": {
    "name": "ipython",
    "version": 3
   },
   "file_extension": ".py",
   "mimetype": "text/x-python",
   "name": "python",
   "nbconvert_exporter": "python",
   "pygments_lexer": "ipython3",
   "version": "3.12.0"
  }
 },
 "nbformat": 4,
 "nbformat_minor": 5
}
