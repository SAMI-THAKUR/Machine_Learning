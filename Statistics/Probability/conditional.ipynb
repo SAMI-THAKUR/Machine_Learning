{
 "cells": [
  {
   "cell_type": "code",
   "execution_count": 1,
   "metadata": {
    "execution": {
     "iopub.execute_input": "2024-05-22T07:40:24.534601Z",
     "iopub.status.busy": "2024-05-22T07:40:24.533605Z",
     "iopub.status.idle": "2024-05-22T07:40:24.931343Z",
     "shell.execute_reply": "2024-05-22T07:40:24.930346Z",
     "shell.execute_reply.started": "2024-05-22T07:40:24.534601Z"
    }
   },
   "outputs": [],
   "source": [
    "# import libraries\n",
    "import matplotlib.pyplot as plt\n",
    "import numpy as np"
   ]
  },
  {
   "cell_type": "code",
   "execution_count": 2,
   "metadata": {
    "execution": {
     "iopub.execute_input": "2024-05-22T07:40:25.065983Z",
     "iopub.status.busy": "2024-05-22T07:40:25.065983Z",
     "iopub.status.idle": "2024-05-22T07:40:25.090796Z",
     "shell.execute_reply": "2024-05-22T07:40:25.089877Z",
     "shell.execute_reply.started": "2024-05-22T07:40:25.065983Z"
    }
   },
   "outputs": [],
   "source": [
    "## generate two long-spike time series\n",
    "\n",
    "N = 10000\n",
    "spikeDur  = 10  # a.u. but must be an even number\n",
    "spikeNumA = .01 # in proportion of total number of points\n",
    "spikeNumB = .05 # in proportion of total number of points\n",
    "\n",
    "# initialize to zeros\n",
    "spike_tsA = np.zeros(N)\n",
    "spike_tsB = np.zeros(N)\n",
    "\n",
    "\n",
    "### populate time series A\n",
    "spiketimesA = np.random.randint(0,N,int(N*spikeNumA))\n",
    "\n",
    "# flesh out spikes (loop per spike)\n",
    "for spikei in range(len(spiketimesA)):\n",
    "    \n",
    "    # find boundaries\n",
    "    bnd_pre = int( max(0,spiketimesA[spikei]-spikeDur/2) )\n",
    "    bnd_pst = int( min(N,spiketimesA[spikei]+spikeDur/2) )\n",
    "    \n",
    "    # fill in with ones\n",
    "    spike_tsA[bnd_pre:bnd_pst] = 1\n",
    "\n",
    "\n",
    "# ### repeat for time series 2\n",
    "spiketimesB = np.random.randint(0,N,int(N*spikeNumB))\n",
    "# spiketimesB[:len(spiketimesA)] = spiketimesA # induce strong conditional probability\n",
    "\n",
    "# flesh out spikes (loop per spike)\n",
    "for spikei in range(len(spiketimesB)):\n",
    "    \n",
    "    # find boundaries\n",
    "    bnd_pre = int( max(0,spiketimesB[spikei]-spikeDur/2) )\n",
    "    bnd_pst = int( min(N,spiketimesB[spikei]+spikeDur/2) )\n",
    "    \n",
    "    # fill in with ones\n",
    "    spike_tsB[bnd_pre:bnd_pst] = 1\n"
   ]
  },
  {
   "cell_type": "code",
   "execution_count": 3,
   "metadata": {
    "execution": {
     "iopub.execute_input": "2024-05-22T07:40:25.317227Z",
     "iopub.status.busy": "2024-05-22T07:40:25.317227Z",
     "iopub.status.idle": "2024-05-22T07:40:25.467730Z",
     "shell.execute_reply": "2024-05-22T07:40:25.466990Z",
     "shell.execute_reply.started": "2024-05-22T07:40:25.317227Z"
    }
   },
   "outputs": [
    {
     "data": {
      "image/png": "[encoded data removed]",
      "text/plain": [
       "<Figure size 640x480 with 1 Axes>"
      ]
     },
     "metadata": {},
     "output_type": "display_data"
    }
   ],
   "source": [
    "## let's see what they look like\n",
    "\n",
    "plt.plot(range(N),spike_tsA, range(N),spike_tsB)\n",
    "plt.ylim([0,1.2])\n",
    "# plt.xlim([2000,2500])\n",
    "plt.show()"
   ]
  },
  {
   "cell_type": "code",
   "execution_count": 4,
   "metadata": {
    "execution": {
     "iopub.execute_input": "2024-05-22T07:40:25.712439Z",
     "iopub.status.busy": "2024-05-22T07:40:25.711441Z",
     "iopub.status.idle": "2024-05-22T07:40:25.735378Z",
     "shell.execute_reply": "2024-05-22T07:40:25.734381Z",
     "shell.execute_reply.started": "2024-05-22T07:40:25.712439Z"
    }
   },
   "outputs": [
    {
     "name": "stdout",
     "output_type": "stream",
     "text": [
      "0.0913 0.4015 0.0384\n"
     ]
    }
   ],
   "source": [
    "## compute their probabilities and intersection\n",
    "\n",
    "# probabilities\n",
    "probA = sum(spike_tsA==1) / N\n",
    "probB = np.mean(spike_tsB)\n",
    "\n",
    "# joint probability\n",
    "probAB = np.mean(spike_tsA+spike_tsB==2)\n",
    "\n",
    "print(probA,probB,probAB)"
   ]
  },
  {
   "cell_type": "code",
   "execution_count": 5,
   "metadata": {
    "execution": {
     "iopub.execute_input": "2024-05-22T07:40:26.208552Z",
     "iopub.status.busy": "2024-05-22T07:40:26.207555Z",
     "iopub.status.idle": "2024-05-22T07:40:26.217528Z",
     "shell.execute_reply": "2024-05-22T07:40:26.216530Z",
     "shell.execute_reply.started": "2024-05-22T07:40:26.208552Z"
    }
   },
   "outputs": [
    {
     "name": "stdout",
     "output_type": "stream",
     "text": [
      "P(A)   = 0.0913\n",
      "P(A|B) = 0.0956413\n",
      "P(B)   = 0.4015\n",
      "P(B|A) = 0.420591\n"
     ]
    }
   ],
   "source": [
    "## compute the conditional probabilities\n",
    "\n",
    "# p(A|B)\n",
    "pAgivenB = probAB/probB\n",
    "\n",
    "# p(B|A)\n",
    "pBgivenA = probAB/probA\n",
    "\n",
    "# print a little report\n",
    "print('P(A)   = %g'%probA)\n",
    "print('P(A|B) = %g'%pAgivenB)\n",
    "print('P(B)   = %g'%probB)\n",
    "print('P(B|A) = %g'%pBgivenA)"
   ]
  }
 ],
 "metadata": {
  "kernelspec": {
   "display_name": "Python 3 (ipykernel)",
   "language": "python",
   "name": "python3"
  },
  "language_info": {
   "codemirror_mode": {
    "name": "ipython",
    "version": 3
   },
   "file_extension": ".py",
   "mimetype": "text/x-python",
   "name": "python",
   "nbconvert_exporter": "python",
   "pygments_lexer": "ipython3",
   "version": "3.10.0"
  }
 },
 "nbformat": 4,
 "nbformat_minor": 4
}
