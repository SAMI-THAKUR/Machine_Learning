{
 "cells": [
  {
   "cell_type": "code",
   "execution_count": null,
   "id": "eccbd33b-f805-4a96-83dd-c6bd17d95f4d",
   "metadata": {},
   "outputs": [],
   "source": []
  }
 ],
 "metadata": {
  "kernelspec": {
   "display_name": "",
   "name": ""
  },
  "language_info": {
   "name": ""
  }
 },
 "nbformat": 4,
 "nbformat_minor": 5
}
