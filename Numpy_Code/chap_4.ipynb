{
 "cells": [
  {
   "cell_type": "code",
   "execution_count": 1,
   "id": "8d1143c6-ffa6-4b2f-9fab-1a03b0a8f3e9",
   "metadata": {},
   "outputs": [
    {
     "name": "stdout",
     "output_type": "stream",
     "text": [
      "[ 1  4  9 16 25 36 49 64 81]\n",
      "Copy of array [ 1  4  9 16 25 36 49 64 81]\n",
      "View of array [ 1  4  9 16 25 36 49 64 81]\n",
      "Original array [100 300   9  16  25  36  49  64  81]\n",
      "[200   4   9  16  25  36  49  64  81]\n",
      "View of array after change [100 300   9  16  25  36  49  64  81]\n"
     ]
    }
   ],
   "source": [
    "import numpy as numpy\n",
    "\n",
    "l = [1, 4, 9, 16, 25, 36, 49, 64, 81]\n",
    "l2 = [-1, -4, -9, -16, -25, -36, -49, 64, 81]\n",
    "\n",
    "n = numpy.array(l)\n",
    "print(n)\n",
    "\n",
    "# Create a copy of array #\n",
    "n2 = n.copy()\n",
    "print(f'Copy of array {n2}')  # --> same as n but if we change n, n2 will not change\n",
    "\n",
    "# Create a view of array #\n",
    "n3 = n.view()\n",
    "print(f'View of array {n3}')  # --> same as n but if we change n, n3 will change too and vice versa\n",
    "\n",
    "# Change the values #\n",
    "n[0] = 100\n",
    "n2[0] = 200\n",
    "n[1] = 300\n",
    "print(f'Original array {n}')\n",
    "print(n2)\n",
    "print(f'View of array after change {n3}')\n"
   ]
  },
  {
   "cell_type": "code",
   "execution_count": null,
   "id": "01f69755-baae-4c4a-9167-b7c5eabf6e48",
   "metadata": {},
   "outputs": [],
   "source": []
  }
 ],
 "metadata": {
  "kernelspec": {
   "display_name": "Python 3 (ipykernel)",
   "language": "python",
   "name": "python3"
  },
  "language_info": {
   "codemirror_mode": {
    "name": "ipython",
    "version": 3
   },
   "file_extension": ".py",
   "mimetype": "text/x-python",
   "name": "python",
   "nbconvert_exporter": "python",
   "pygments_lexer": "ipython3",
   "version": "3.12.0"
  }
 },
 "nbformat": 4,
 "nbformat_minor": 5
}
