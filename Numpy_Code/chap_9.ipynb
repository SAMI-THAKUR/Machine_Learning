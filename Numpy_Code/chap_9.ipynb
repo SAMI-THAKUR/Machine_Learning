{
 "cells": [
  {
   "cell_type": "code",
   "execution_count": 3,
   "id": "995ecdc2-c48d-46d9-998a-eecbc4c6c3ab",
   "metadata": {},
   "outputs": [
    {
     "name": "stdout",
     "output_type": "stream",
     "text": [
      "[ 1  4  2  3  5  6  7  8  9 10]\n",
      "[True, False, True, False, True, False, True, False, True, False]\n",
      "[1 2 5 7 9]\n",
      "[False  True  True False False  True False  True False  True]\n",
      "[ 4  2  6  8 10]\n"
     ]
    }
   ],
   "source": [
    "import numpy as numpy\n",
    "\n",
    "# --- filtering --- #\n",
    "\n",
    "l = [1, 4, 2, 3, 5, 6, 7, 8, 9, 10]\n",
    "# print(l)\n",
    "n = numpy.array(l)\n",
    "x = [True, False, True, False, True, False, True, False, True, False]\n",
    "\n",
    "print(n)\n",
    "print(x)\n",
    "print(n[x])\n",
    "\n",
    "# --- ShortCut --- #\n",
    "fi = n % 2 == 0\n",
    "print(fi)\n",
    "print(n[fi])\n",
    "\n",
    "\n"
   ]
  },
  {
   "cell_type": "code",
   "execution_count": null,
   "id": "0ca62ab9-71e2-4a06-8d63-7fb979cdd3ee",
   "metadata": {},
   "outputs": [],
   "source": []
  }
 ],
 "metadata": {
  "kernelspec": {
   "display_name": "Python 3 (ipykernel)",
   "language": "python",
   "name": "python3"
  },
  "language_info": {
   "codemirror_mode": {
    "name": "ipython",
    "version": 3
   },
   "file_extension": ".py",
   "mimetype": "text/x-python",
   "name": "python",
   "nbconvert_exporter": "python",
   "pygments_lexer": "ipython3",
   "version": "3.12.0"
  }
 },
 "nbformat": 4,
 "nbformat_minor": 5
}
