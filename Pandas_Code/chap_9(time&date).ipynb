{
 "cells": [
  {
   "cell_type": "code",
   "execution_count": 3,
   "id": "883da704-feab-4c15-9546-e56059097cc5",
   "metadata": {},
   "outputs": [],
   "source": [
    "import pandas as pd\n",
    "import numpy as np\n",
    "from datetime import datetime as dt"
   ]
  },
  {
   "cell_type": "code",
   "execution_count": 7,
   "id": "8f84a260-b805-4bd6-901b-37c78cce3b31",
   "metadata": {},
   "outputs": [
    {
     "data": {
      "text/plain": [
       "1705725330.0"
      ]
     },
     "execution_count": 7,
     "metadata": {},
     "output_type": "execute_result"
    }
   ],
   "source": [
    "year = 2024\n",
    "month = 1\n",
    "day = 20\n",
    "hour = 10\n",
    "min = 5\n",
    "sec= 30\n",
    "mydate  = dt(year,month,day,hour,min,sec)\n",
    "mydate.timestamp()"
   ]
  },
  {
   "cell_type": "code",
   "execution_count": 24,
   "id": "22a5a521-f990-47ee-9211-697838b013c8",
   "metadata": {},
   "outputs": [],
   "source": [
    "ser = pd.Series([\"Nov 2 2023\",\"2024-01-01\",None])"
   ]
  },
  {
   "cell_type": "code",
   "execution_count": 33,
   "id": "8fa4bd81-08cd-40d1-9c77-83e91a2cd1be",
   "metadata": {},
   "outputs": [
    {
     "data": {
      "text/plain": [
       "0   2023-11-02\n",
       "1   2024-01-01\n",
       "2          NaT\n",
       "dtype: datetime64[ns]"
      ]
     },
     "execution_count": 33,
     "metadata": {},
     "output_type": "execute_result"
    }
   ],
   "source": [
    "time = pd.to_datetime(ser,format=\"mixed\") # in y/m/d format\n",
    "time"
   ]
  },
  {
   "cell_type": "code",
   "execution_count": 38,
   "id": "06a1a540-9a0f-4e95-b6c2-16170dcfba96",
   "metadata": {},
   "outputs": [
    {
     "data": {
      "text/plain": [
       "Timestamp('2023-12-10 00:00:00')"
      ]
     },
     "execution_count": 38,
     "metadata": {},
     "output_type": "execute_result"
    }
   ],
   "source": [
    "euro_date = \"10-12-2023\"\n",
    "pd.to_datetime(euro_date , format=\"%d-%m-%Y\")"
   ]
  },
  {
   "cell_type": "code",
   "execution_count": 104,
   "id": "4ea9f697-a02b-4e64-ae8c-77afd054d7bf",
   "metadata": {},
   "outputs": [
    {
     "name": "stdout",
     "output_type": "stream",
     "text": [
      "<class 'pandas.core.frame.DataFrame'>\n",
      "RangeIndex: 340 entries, 0 to 339\n",
      "Data columns (total 2 columns):\n",
      " #   Column         Non-Null Count  Dtype         \n",
      "---  ------         --------------  -----         \n",
      " 0   DATE           340 non-null    datetime64[ns]\n",
      " 1   MRTSSM4453USN  340 non-null    int64         \n",
      "dtypes: datetime64[ns](1), int64(1)\n",
      "memory usage: 5.4 KB\n"
     ]
    }
   ],
   "source": [
    "data = pd.read_csv(\"DATA/RetailSales_BeerWineLiquor.csv\" , parse_dates=[0])\n",
    "data\n",
    "data.info()"
   ]
  },
  {
   "cell_type": "code",
   "execution_count": 93,
   "id": "7461f575-2b2e-4ba4-81ee-6e42df0d7eb4",
   "metadata": {},
   "outputs": [],
   "source": [
    "# data[\"DATE\"] = pd.to_datetime(data[\"DATE\"])\n",
    "# data[\"DATE\"] = data[\"DATE\"].dt.year"
   ]
  },
  {
   "cell_type": "code",
   "execution_count": 100,
   "id": "5b367a70-2303-42b6-b08a-bebf6f97e69a",
   "metadata": {},
   "outputs": [],
   "source": [
    "data = data.set_index(\"DATE\")"
   ]
  },
  {
   "cell_type": "code",
   "execution_count": 102,
   "id": "28545f0a-23ab-4949-898d-2bfa05c77409",
   "metadata": {},
   "outputs": [
    {
     "data": {
      "text/html": [
       "<div>\n",
       "<style scoped>\n",
       "    .dataframe tbody tr th:only-of-type {\n",
       "        vertical-align: middle;\n",
       "    }\n",
       "\n",
       "    .dataframe tbody tr th {\n",
       "        vertical-align: top;\n",
       "    }\n",
       "\n",
       "    .dataframe thead th {\n",
       "        text-align: right;\n",
       "    }\n",
       "</style>\n",
       "<table border=\"1\" class=\"dataframe\">\n",
       "  <thead>\n",
       "    <tr style=\"text-align: right;\">\n",
       "      <th></th>\n",
       "      <th>MRTSSM4453USN</th>\n",
       "    </tr>\n",
       "    <tr>\n",
       "      <th>DATE</th>\n",
       "      <th></th>\n",
       "    </tr>\n",
       "  </thead>\n",
       "  <tbody>\n",
       "    <tr>\n",
       "      <th>1992-03-31</th>\n",
       "      <td>4647</td>\n",
       "    </tr>\n",
       "    <tr>\n",
       "      <th>1992-06-30</th>\n",
       "      <td>5272</td>\n",
       "    </tr>\n",
       "    <tr>\n",
       "      <th>1992-09-30</th>\n",
       "      <td>5544</td>\n",
       "    </tr>\n",
       "    <tr>\n",
       "      <th>1992-12-31</th>\n",
       "      <td>6224</td>\n",
       "    </tr>\n",
       "    <tr>\n",
       "      <th>1993-03-31</th>\n",
       "      <td>4821</td>\n",
       "    </tr>\n",
       "    <tr>\n",
       "      <th>...</th>\n",
       "      <td>...</td>\n",
       "    </tr>\n",
       "    <tr>\n",
       "      <th>2019-06-28</th>\n",
       "      <td>14700</td>\n",
       "    </tr>\n",
       "    <tr>\n",
       "      <th>2019-09-30</th>\n",
       "      <td>15195</td>\n",
       "    </tr>\n",
       "    <tr>\n",
       "      <th>2019-12-31</th>\n",
       "      <td>16855</td>\n",
       "    </tr>\n",
       "    <tr>\n",
       "      <th>2020-03-31</th>\n",
       "      <td>14483</td>\n",
       "    </tr>\n",
       "    <tr>\n",
       "      <th>2020-06-30</th>\n",
       "      <td>5207</td>\n",
       "    </tr>\n",
       "  </tbody>\n",
       "</table>\n",
       "<p>114 rows × 1 columns</p>\n",
       "</div>"
      ],
      "text/plain": [
       "            MRTSSM4453USN\n",
       "DATE                     \n",
       "1992-03-31           4647\n",
       "1992-06-30           5272\n",
       "1992-09-30           5544\n",
       "1992-12-31           6224\n",
       "1993-03-31           4821\n",
       "...                   ...\n",
       "2019-06-28          14700\n",
       "2019-09-30          15195\n",
       "2019-12-31          16855\n",
       "2020-03-31          14483\n",
       "2020-06-30           5207\n",
       "\n",
       "[114 rows x 1 columns]"
      ]
     },
     "execution_count": 102,
     "metadata": {},
     "output_type": "execute_result"
    }
   ],
   "source": [
    "data.resample(rule=\"BQ\").sum()"
   ]
  },
  {
   "cell_type": "code",
   "execution_count": 103,
   "id": "1791be0a-15b1-4386-b2db-e4ecfa4886c4",
   "metadata": {},
   "outputs": [
    {
     "name": "stdout",
     "output_type": "stream",
     "text": [
      "<class 'pandas.core.frame.DataFrame'>\n",
      "DatetimeIndex: 340 entries, 1992-01-01 to 2020-04-01\n",
      "Data columns (total 1 columns):\n",
      " #   Column         Non-Null Count  Dtype\n",
      "---  ------         --------------  -----\n",
      " 0   MRTSSM4453USN  340 non-null    int64\n",
      "dtypes: int64(1)\n",
      "memory usage: 5.3 KB\n"
     ]
    }
   ],
   "source": [
    "data.info()"
   ]
  },
  {
   "cell_type": "code",
   "execution_count": null,
   "id": "7f38452d-3ae7-447d-a1ad-c4a990f195ab",
   "metadata": {},
   "outputs": [],
   "source": []
  }
 ],
 "metadata": {
  "kernelspec": {
   "display_name": "Python 3 (ipykernel)",
   "language": "python",
   "name": "python3"
  },
  "language_info": {
   "codemirror_mode": {
    "name": "ipython",
    "version": 3
   },
   "file_extension": ".py",
   "mimetype": "text/x-python",
   "name": "python",
   "nbconvert_exporter": "python",
   "pygments_lexer": "ipython3",
   "version": "3.10.0"
  }
 },
 "nbformat": 4,
 "nbformat_minor": 5
}
