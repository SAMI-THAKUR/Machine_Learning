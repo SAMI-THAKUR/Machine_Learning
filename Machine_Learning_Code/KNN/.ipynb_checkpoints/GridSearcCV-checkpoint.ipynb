{
 "cells": [
  {
   "cell_type": "code",
   "execution_count": 42,
   "id": "976dd574-6336-4e7e-bdf2-7eadcea40376",
   "metadata": {
    "execution": {
     "iopub.execute_input": "2024-05-17T16:23:06.366845Z",
     "iopub.status.busy": "2024-05-17T16:23:06.366845Z",
     "iopub.status.idle": "2024-05-17T16:23:06.384795Z",
     "shell.execute_reply": "2024-05-17T16:23:06.383798Z",
     "shell.execute_reply.started": "2024-05-17T16:23:06.366845Z"
    }
   },
   "outputs": [],
   "source": [
    "import numpy as np\n",
    "import pandas as pd\n",
    "import matplotlib.pyplot as plt\n",
    "import seaborn as sns"
   ]
  },
  {
   "cell_type": "code",
   "execution_count": 43,
   "id": "b00fa4c4-0c33-42a3-b65a-46526d7cbe37",
   "metadata": {
    "execution": {
     "iopub.execute_input": "2024-05-17T16:23:11.490067Z",
     "iopub.status.busy": "2024-05-17T16:23:11.490067Z",
     "iopub.status.idle": "2024-05-17T16:23:12.975624Z",
     "shell.execute_reply": "2024-05-17T16:23:12.972555Z",
     "shell.execute_reply.started": "2024-05-17T16:23:11.490067Z"
    }
   },
   "outputs": [],
   "source": [
    "url = 'https://drive.google.com/file/d/1oXrF8KHsElHXI_u-BGuijMe4F83U7dvj/view?usp=drive_link'\n",
    "url = 'https://drive.google.com/uc?id='+url.split('/')[-2]\n",
    "df = pd.read_csv(url)"
   ]
  },
  {
   "cell_type": "code",
   "execution_count": 44,
   "id": "f622b050-686d-4379-af82-ce5d58212105",
   "metadata": {
    "execution": {
     "iopub.execute_input": "2024-05-17T16:23:13.007481Z",
     "iopub.status.busy": "2024-05-17T16:23:13.007481Z",
     "iopub.status.idle": "2024-05-17T16:23:13.021067Z",
     "shell.execute_reply": "2024-05-17T16:23:13.020450Z",
     "shell.execute_reply.started": "2024-05-17T16:23:13.007481Z"
    }
   },
   "outputs": [],
   "source": [
    "from sklearn.model_selection import train_test_split\n",
    "from sklearn.preprocessing import StandardScaler\n",
    "from sklearn.neighbors import KNeighborsClassifier"
   ]
  },
  {
   "cell_type": "code",
   "execution_count": 45,
   "id": "eb8b929b-74d1-45e3-b772-eb6dada96387",
   "metadata": {
    "execution": {
     "iopub.execute_input": "2024-05-17T16:23:13.022068Z",
     "iopub.status.busy": "2024-05-17T16:23:13.022068Z",
     "iopub.status.idle": "2024-05-17T16:23:13.037573Z",
     "shell.execute_reply": "2024-05-17T16:23:13.036542Z",
     "shell.execute_reply.started": "2024-05-17T16:23:13.022068Z"
    }
   },
   "outputs": [],
   "source": [
    "X = df.drop('Cancer Present',axis=1)\n",
    "y = df['Cancer Present']"
   ]
  },
  {
   "cell_type": "code",
   "execution_count": 46,
   "id": "b538d68f-f835-48fc-a88c-0395e62ede1a",
   "metadata": {
    "execution": {
     "iopub.execute_input": "2024-05-17T16:23:14.001391Z",
     "iopub.status.busy": "2024-05-17T16:23:14.000396Z",
     "iopub.status.idle": "2024-05-17T16:23:14.021341Z",
     "shell.execute_reply": "2024-05-17T16:23:14.020344Z",
     "shell.execute_reply.started": "2024-05-17T16:23:14.001391Z"
    }
   },
   "outputs": [],
   "source": [
    "X_train, X_test, y_train, y_test = train_test_split(X, y, test_size=0.3, random_state=101)"
   ]
  },
  {
   "cell_type": "code",
   "execution_count": 47,
   "id": "d12c376e-9311-46cd-9337-aba6ae44cd59",
   "metadata": {
    "execution": {
     "iopub.execute_input": "2024-05-17T16:23:14.773718Z",
     "iopub.status.busy": "2024-05-17T16:23:14.772721Z",
     "iopub.status.idle": "2024-05-17T16:23:14.782695Z",
     "shell.execute_reply": "2024-05-17T16:23:14.781697Z",
     "shell.execute_reply.started": "2024-05-17T16:23:14.773718Z"
    }
   },
   "outputs": [],
   "source": [
    "scaler = StandardScaler()"
   ]
  },
  {
   "cell_type": "code",
   "execution_count": 48,
   "id": "6014f580-24c6-4f39-9759-29179cd77fc8",
   "metadata": {
    "execution": {
     "iopub.execute_input": "2024-05-17T16:23:15.475574Z",
     "iopub.status.busy": "2024-05-17T16:23:15.474577Z",
     "iopub.status.idle": "2024-05-17T16:23:15.486545Z",
     "shell.execute_reply": "2024-05-17T16:23:15.485549Z",
     "shell.execute_reply.started": "2024-05-17T16:23:15.475574Z"
    }
   },
   "outputs": [],
   "source": [
    "knn = KNeighborsClassifier()"
   ]
  },
  {
   "cell_type": "code",
   "execution_count": 49,
   "id": "97cf97ff-253c-43ba-9ff5-3235ad1b9c4c",
   "metadata": {
    "execution": {
     "iopub.execute_input": "2024-05-17T16:23:16.089620Z",
     "iopub.status.busy": "2024-05-17T16:23:16.088621Z",
     "iopub.status.idle": "2024-05-17T16:23:16.096602Z",
     "shell.execute_reply": "2024-05-17T16:23:16.095604Z",
     "shell.execute_reply.started": "2024-05-17T16:23:16.089620Z"
    }
   },
   "outputs": [],
   "source": [
    "operations = [('scaler',scaler),('knn',knn)]"
   ]
  },
  {
   "cell_type": "code",
   "execution_count": 50,
   "id": "8cd3409f-0738-43ee-8b65-9be199273995",
   "metadata": {
    "execution": {
     "iopub.execute_input": "2024-05-17T16:23:18.747175Z",
     "iopub.status.busy": "2024-05-17T16:23:18.746179Z",
     "iopub.status.idle": "2024-05-17T16:23:18.761104Z",
     "shell.execute_reply": "2024-05-17T16:23:18.760106Z",
     "shell.execute_reply.started": "2024-05-17T16:23:18.746179Z"
    }
   },
   "outputs": [],
   "source": [
    "from sklearn.pipeline import Pipeline"
   ]
  },
  {
   "cell_type": "code",
   "execution_count": 51,
   "id": "9ddd7dd2-695c-46a9-8288-76a03fe3ff2d",
   "metadata": {
    "execution": {
     "iopub.execute_input": "2024-05-17T16:23:19.060595Z",
     "iopub.status.busy": "2024-05-17T16:23:19.060595Z",
     "iopub.status.idle": "2024-05-17T16:23:19.071565Z",
     "shell.execute_reply": "2024-05-17T16:23:19.071565Z",
     "shell.execute_reply.started": "2024-05-17T16:23:19.060595Z"
    }
   },
   "outputs": [],
   "source": [
    "pipe = Pipeline(operations)"
   ]
  },
  {
   "cell_type": "code",
   "execution_count": 52,
   "id": "d838afba-dbc5-478d-a42d-2a8971f2abb4",
   "metadata": {
    "execution": {
     "iopub.execute_input": "2024-05-17T16:23:19.453695Z",
     "iopub.status.busy": "2024-05-17T16:23:19.452698Z",
     "iopub.status.idle": "2024-05-17T16:23:19.459679Z",
     "shell.execute_reply": "2024-05-17T16:23:19.458682Z",
     "shell.execute_reply.started": "2024-05-17T16:23:19.453695Z"
    }
   },
   "outputs": [],
   "source": [
    "from sklearn.model_selection import GridSearchCV"
   ]
  },
  {
   "cell_type": "code",
   "execution_count": 53,
   "id": "41db0513-bf7b-4fa1-a7e5-9bff855e8de3",
   "metadata": {
    "execution": {
     "iopub.execute_input": "2024-05-17T16:23:19.857624Z",
     "iopub.status.busy": "2024-05-17T16:23:19.856627Z",
     "iopub.status.idle": "2024-05-17T16:23:19.864605Z",
     "shell.execute_reply": "2024-05-17T16:23:19.863607Z",
     "shell.execute_reply.started": "2024-05-17T16:23:19.856627Z"
    }
   },
   "outputs": [],
   "source": [
    "k_values = list(range(1,20))"
   ]
  },
  {
   "cell_type": "markdown",
   "id": "f6ba6dc0-f144-43fb-908a-6f79e7becb6c",
   "metadata": {},
   "source": [
    "---\r\n",
    "*Note: If your parameter grid is going inside a PipeLine, your parameter name needs to be specified in the following manner:**\r\n",
    "\r\n",
    "* chosen_string_name + **two** underscores + parameter key name\r\n",
    "* model_name + __ + parameter name\r\n",
    "* knn_model + __ + n_neighbors\r\n",
    "* knn_model__n_neighbors\r\n",
    "\r\n",
    "[StackOverflow on this](https://stackoverflow.com/questions/41899132/invalid-parameter-for-sklearn-estimator-pipeline)\r\n",
    "\r\n",
    "The reason we have to do this is because it let's scikit-learn know what operation in the pipeline these parameters are related to (otherwise it might think n_neighbors was a parameter in the scaler).\r\n",
    "\r\n",
    "---"
   ]
  },
  {
   "cell_type": "code",
   "execution_count": 63,
   "id": "1a1f1fc1-4df5-4aae-9b3a-3ee8431f98e8",
   "metadata": {
    "execution": {
     "iopub.execute_input": "2024-05-17T16:24:59.767535Z",
     "iopub.status.busy": "2024-05-17T16:24:59.766538Z",
     "iopub.status.idle": "2024-05-17T16:24:59.778022Z",
     "shell.execute_reply": "2024-05-17T16:24:59.778022Z",
     "shell.execute_reply.started": "2024-05-17T16:24:59.767535Z"
    }
   },
   "outputs": [],
   "source": [
    "param_grid = {'knn__n_neighbors': k_values }"
   ]
  },
  {
   "cell_type": "code",
   "execution_count": 64,
   "id": "6c54e7b6-9faf-44fe-a5f3-e5350c7c6325",
   "metadata": {
    "execution": {
     "iopub.execute_input": "2024-05-17T16:25:00.085794Z",
     "iopub.status.busy": "2024-05-17T16:25:00.085794Z",
     "iopub.status.idle": "2024-05-17T16:25:00.107044Z",
     "shell.execute_reply": "2024-05-17T16:25:00.105049Z",
     "shell.execute_reply.started": "2024-05-17T16:25:00.085794Z"
    }
   },
   "outputs": [],
   "source": [
    "full_cv_classifier = GridSearchCV(pipe,param_grid,cv=5,scoring='accuracy')"
   ]
  },
  {
   "cell_type": "code",
   "execution_count": 65,
   "id": "a69da79b-94a7-4090-92d5-39030383b079",
   "metadata": {
    "execution": {
     "iopub.execute_input": "2024-05-17T16:25:00.508389Z",
     "iopub.status.busy": "2024-05-17T16:25:00.508389Z",
     "iopub.status.idle": "2024-05-17T16:25:02.474854Z",
     "shell.execute_reply": "2024-05-17T16:25:02.473852Z",
     "shell.execute_reply.started": "2024-05-17T16:25:00.508389Z"
    }
   },
   "outputs": [
    {
     "data": {
      "text/html": [
       "<style>#sk-container-id-7 {color: black;}#sk-container-id-7 pre{padding: 0;}#sk-container-id-7 div.sk-toggleable {background-color: white;}#sk-container-id-7 label.sk-toggleable__label {cursor: pointer;display: block;width: 100%;margin-bottom: 0;padding: 0.3em;box-sizing: border-box;text-align: center;}#sk-container-id-7 label.sk-toggleable__label-arrow:before {content: \"▸\";float: left;margin-right: 0.25em;color: #696969;}#sk-container-id-7 label.sk-toggleable__label-arrow:hover:before {color: black;}#sk-container-id-7 div.sk-estimator:hover label.sk-toggleable__label-arrow:before {color: black;}#sk-container-id-7 div.sk-toggleable__content {max-height: 0;max-width: 0;overflow: hidden;text-align: left;background-color: #f0f8ff;}#sk-container-id-7 div.sk-toggleable__content pre {margin: 0.2em;color: black;border-radius: 0.25em;background-color: #f0f8ff;}#sk-container-id-7 input.sk-toggleable__control:checked~div.sk-toggleable__content {max-height: 200px;max-width: 100%;overflow: auto;}#sk-container-id-7 input.sk-toggleable__control:checked~label.sk-toggleable__label-arrow:before {content: \"▾\";}#sk-container-id-7 div.sk-estimator input.sk-toggleable__control:checked~label.sk-toggleable__label {background-color: #d4ebff;}#sk-container-id-7 div.sk-label input.sk-toggleable__control:checked~label.sk-toggleable__label {background-color: #d4ebff;}#sk-container-id-7 input.sk-hidden--visually {border: 0;clip: rect(1px 1px 1px 1px);clip: rect(1px, 1px, 1px, 1px);height: 1px;margin: -1px;overflow: hidden;padding: 0;position: absolute;width: 1px;}#sk-container-id-7 div.sk-estimator {font-family: monospace;background-color: #f0f8ff;border: 1px dotted black;border-radius: 0.25em;box-sizing: border-box;margin-bottom: 0.5em;}#sk-container-id-7 div.sk-estimator:hover {background-color: #d4ebff;}#sk-container-id-7 div.sk-parallel-item::after {content: \"\";width: 100%;border-bottom: 1px solid gray;flex-grow: 1;}#sk-container-id-7 div.sk-label:hover label.sk-toggleable__label {background-color: #d4ebff;}#sk-container-id-7 div.sk-serial::before {content: \"\";position: absolute;border-left: 1px solid gray;box-sizing: border-box;top: 0;bottom: 0;left: 50%;z-index: 0;}#sk-container-id-7 div.sk-serial {display: flex;flex-direction: column;align-items: center;background-color: white;padding-right: 0.2em;padding-left: 0.2em;position: relative;}#sk-container-id-7 div.sk-item {position: relative;z-index: 1;}#sk-container-id-7 div.sk-parallel {display: flex;align-items: stretch;justify-content: center;background-color: white;position: relative;}#sk-container-id-7 div.sk-item::before, #sk-container-id-7 div.sk-parallel-item::before {content: \"\";position: absolute;border-left: 1px solid gray;box-sizing: border-box;top: 0;bottom: 0;left: 50%;z-index: -1;}#sk-container-id-7 div.sk-parallel-item {display: flex;flex-direction: column;z-index: 1;position: relative;background-color: white;}#sk-container-id-7 div.sk-parallel-item:first-child::after {align-self: flex-end;width: 50%;}#sk-container-id-7 div.sk-parallel-item:last-child::after {align-self: flex-start;width: 50%;}#sk-container-id-7 div.sk-parallel-item:only-child::after {width: 0;}#sk-container-id-7 div.sk-dashed-wrapped {border: 1px dashed gray;margin: 0 0.4em 0.5em 0.4em;box-sizing: border-box;padding-bottom: 0.4em;background-color: white;}#sk-container-id-7 div.sk-label label {font-family: monospace;font-weight: bold;display: inline-block;line-height: 1.2em;}#sk-container-id-7 div.sk-label-container {text-align: center;}#sk-container-id-7 div.sk-container {/* jupyter's `normalize.less` sets `[hidden] { display: none; }` but bootstrap.min.css set `[hidden] { display: none !important; }` so we also need the `!important` here to be able to override the default hidden behavior on the sphinx rendered scikit-learn.org. See: https://github.com/scikit-learn/scikit-learn/issues/21755 */display: inline-block !important;position: relative;}#sk-container-id-7 div.sk-text-repr-fallback {display: none;}</style><div id=\"sk-container-id-7\" class=\"sk-top-container\"><div class=\"sk-text-repr-fallback\"><pre>GridSearchCV(cv=5,\n",
       "             estimator=Pipeline(steps=[(&#x27;scaler&#x27;, StandardScaler()),\n",
       "                                       (&#x27;knn&#x27;, KNeighborsClassifier())]),\n",
       "             param_grid={&#x27;knn__n_neighbors&#x27;: [1, 2, 3, 4, 5, 6, 7, 8, 9, 10, 11,\n",
       "                                              12, 13, 14, 15, 16, 17, 18, 19]},\n",
       "             scoring=&#x27;accuracy&#x27;)</pre><b>In a Jupyter environment, please rerun this cell to show the HTML representation or trust the notebook. <br />On GitHub, the HTML representation is unable to render, please try loading this page with nbviewer.org.</b></div><div class=\"sk-container\" hidden><div class=\"sk-item sk-dashed-wrapped\"><div class=\"sk-label-container\"><div class=\"sk-label sk-toggleable\"><input class=\"sk-toggleable__control sk-hidden--visually\" id=\"sk-estimator-id-25\" type=\"checkbox\" ><label for=\"sk-estimator-id-25\" class=\"sk-toggleable__label sk-toggleable__label-arrow\">GridSearchCV</label><div class=\"sk-toggleable__content\"><pre>GridSearchCV(cv=5,\n",
       "             estimator=Pipeline(steps=[(&#x27;scaler&#x27;, StandardScaler()),\n",
       "                                       (&#x27;knn&#x27;, KNeighborsClassifier())]),\n",
       "             param_grid={&#x27;knn__n_neighbors&#x27;: [1, 2, 3, 4, 5, 6, 7, 8, 9, 10, 11,\n",
       "                                              12, 13, 14, 15, 16, 17, 18, 19]},\n",
       "             scoring=&#x27;accuracy&#x27;)</pre></div></div></div><div class=\"sk-parallel\"><div class=\"sk-parallel-item\"><div class=\"sk-item\"><div class=\"sk-label-container\"><div class=\"sk-label sk-toggleable\"><input class=\"sk-toggleable__control sk-hidden--visually\" id=\"sk-estimator-id-26\" type=\"checkbox\" ><label for=\"sk-estimator-id-26\" class=\"sk-toggleable__label sk-toggleable__label-arrow\">estimator: Pipeline</label><div class=\"sk-toggleable__content\"><pre>Pipeline(steps=[(&#x27;scaler&#x27;, StandardScaler()), (&#x27;knn&#x27;, KNeighborsClassifier())])</pre></div></div></div><div class=\"sk-serial\"><div class=\"sk-item\"><div class=\"sk-serial\"><div class=\"sk-item\"><div class=\"sk-estimator sk-toggleable\"><input class=\"sk-toggleable__control sk-hidden--visually\" id=\"sk-estimator-id-27\" type=\"checkbox\" ><label for=\"sk-estimator-id-27\" class=\"sk-toggleable__label sk-toggleable__label-arrow\">StandardScaler</label><div class=\"sk-toggleable__content\"><pre>StandardScaler()</pre></div></div></div><div class=\"sk-item\"><div class=\"sk-estimator sk-toggleable\"><input class=\"sk-toggleable__control sk-hidden--visually\" id=\"sk-estimator-id-28\" type=\"checkbox\" ><label for=\"sk-estimator-id-28\" class=\"sk-toggleable__label sk-toggleable__label-arrow\">KNeighborsClassifier</label><div class=\"sk-toggleable__content\"><pre>KNeighborsClassifier()</pre></div></div></div></div></div></div></div></div></div></div></div></div>"
      ],
      "text/plain": [
       "GridSearchCV(cv=5,\n",
       "             estimator=Pipeline(steps=[('scaler', StandardScaler()),\n",
       "                                       ('knn', KNeighborsClassifier())]),\n",
       "             param_grid={'knn__n_neighbors': [1, 2, 3, 4, 5, 6, 7, 8, 9, 10, 11,\n",
       "                                              12, 13, 14, 15, 16, 17, 18, 19]},\n",
       "             scoring='accuracy')"
      ]
     },
     "execution_count": 65,
     "metadata": {},
     "output_type": "execute_result"
    }
   ],
   "source": [
    "# Use full X and y if you DON'T want a hold-out test set\n",
    "# Use X_train and y_train if you DO want a holdout test set (X_test,y_test)\n",
    "full_cv_classifier.fit(X_train,y_train)"
   ]
  },
  {
   "cell_type": "code",
   "execution_count": 66,
   "id": "52d32621-1ed7-4897-bc63-c3f904c16561",
   "metadata": {
    "execution": {
     "iopub.execute_input": "2024-05-17T16:25:02.477845Z",
     "iopub.status.busy": "2024-05-17T16:25:02.476852Z",
     "iopub.status.idle": "2024-05-17T16:25:02.496544Z",
     "shell.execute_reply": "2024-05-17T16:25:02.495735Z",
     "shell.execute_reply.started": "2024-05-17T16:25:02.477845Z"
    }
   },
   "outputs": [
    {
     "data": {
      "text/plain": [
       "{'memory': None,\n",
       " 'steps': [('scaler', StandardScaler()),\n",
       "  ('knn', KNeighborsClassifier(n_neighbors=19))],\n",
       " 'verbose': False,\n",
       " 'scaler': StandardScaler(),\n",
       " 'knn': KNeighborsClassifier(n_neighbors=19),\n",
       " 'scaler__copy': True,\n",
       " 'scaler__with_mean': True,\n",
       " 'scaler__with_std': True,\n",
       " 'knn__algorithm': 'auto',\n",
       " 'knn__leaf_size': 30,\n",
       " 'knn__metric': 'minkowski',\n",
       " 'knn__metric_params': None,\n",
       " 'knn__n_jobs': None,\n",
       " 'knn__n_neighbors': 19,\n",
       " 'knn__p': 2,\n",
       " 'knn__weights': 'uniform'}"
      ]
     },
     "execution_count": 66,
     "metadata": {},
     "output_type": "execute_result"
    }
   ],
   "source": [
    "full_cv_classifier.best_estimator_.get_params()"
   ]
  },
  {
   "cell_type": "code",
   "execution_count": 67,
   "id": "8db8c5ba-6fb9-40cf-9528-715b88c723f5",
   "metadata": {
    "execution": {
     "iopub.execute_input": "2024-05-17T16:25:02.497578Z",
     "iopub.status.busy": "2024-05-17T16:25:02.496544Z",
     "iopub.status.idle": "2024-05-17T16:25:02.513772Z",
     "shell.execute_reply": "2024-05-17T16:25:02.511644Z",
     "shell.execute_reply.started": "2024-05-17T16:25:02.497578Z"
    }
   },
   "outputs": [
    {
     "data": {
      "text/plain": [
       "array([0.89666667, 0.90333333, 0.91714286, 0.91761905, 0.92428571,\n",
       "       0.92333333, 0.92666667, 0.92714286, 0.92666667, 0.92714286,\n",
       "       0.9247619 , 0.92714286, 0.92857143, 0.92809524, 0.92571429,\n",
       "       0.92952381, 0.92666667, 0.93      , 0.93047619])"
      ]
     },
     "execution_count": 67,
     "metadata": {},
     "output_type": "execute_result"
    }
   ],
   "source": [
    "full_cv_classifier.cv_results_['mean_test_score']"
   ]
  },
  {
   "cell_type": "code",
   "execution_count": 71,
   "id": "0cd15171-447b-49f8-94c8-52a2e0aa5b3b",
   "metadata": {
    "execution": {
     "iopub.execute_input": "2024-05-17T16:27:34.974662Z",
     "iopub.status.busy": "2024-05-17T16:27:34.973663Z",
     "iopub.status.idle": "2024-05-17T16:27:34.988624Z",
     "shell.execute_reply": "2024-05-17T16:27:34.987627Z",
     "shell.execute_reply.started": "2024-05-17T16:27:34.974662Z"
    }
   },
   "outputs": [],
   "source": [
    "single_sample = X_test.iloc[20]"
   ]
  },
  {
   "cell_type": "code",
   "execution_count": null,
   "id": "a20e0ee9-d458-4871-b4c6-8939eafcf933",
   "metadata": {},
   "outputs": [],
   "source": [
    "full_cv_classifier.predict(single_sample.values.reshape(1, -1))"
   ]
  },
  {
   "cell_type": "code",
   "execution_count": 75,
   "id": "cd3db541-3beb-47dd-8665-f03c58a71313",
   "metadata": {
    "execution": {
     "iopub.execute_input": "2024-05-17T16:29:16.143430Z",
     "iopub.status.busy": "2024-05-17T16:29:16.142432Z",
     "iopub.status.idle": "2024-05-17T16:29:16.164084Z",
     "shell.execute_reply": "2024-05-17T16:29:16.163088Z",
     "shell.execute_reply.started": "2024-05-17T16:29:16.143430Z"
    }
   },
   "outputs": [
    {
     "name": "stderr",
     "output_type": "stream",
     "text": [
      "C:\\Users\\SAMI\\AppData\\Local\\Programs\\Python\\Python310\\lib\\site-packages\\sklearn\\base.py:465: UserWarning: X does not have valid feature names, but StandardScaler was fitted with feature names\n",
      "  warnings.warn(\n"
     ]
    },
    {
     "data": {
      "text/plain": [
       "array([[0., 1.]])"
      ]
     },
     "execution_count": 75,
     "metadata": {},
     "output_type": "execute_result"
    }
   ],
   "source": [
    "full_cv_classifier.predict_proba(single_sample.values.reshape(1, -1))"
   ]
  },
  {
   "cell_type": "code",
   "execution_count": null,
   "id": "29faf5e0-5519-4a52-8bd2-837297125933",
   "metadata": {},
   "outputs": [],
   "source": []
  }
 ],
 "metadata": {
  "kernelspec": {
   "display_name": "Python 3 (ipykernel)",
   "language": "python",
   "name": "python3"
  },
  "language_info": {
   "codemirror_mode": {
    "name": "ipython",
    "version": 3
   },
   "file_extension": ".py",
   "mimetype": "text/x-python",
   "name": "python",
   "nbconvert_exporter": "python",
   "pygments_lexer": "ipython3",
   "version": "3.10.0"
  }
 },
 "nbformat": 4,
 "nbformat_minor": 5
}
