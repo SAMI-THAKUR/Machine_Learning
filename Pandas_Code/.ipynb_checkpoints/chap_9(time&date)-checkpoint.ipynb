{
 "cells": [
  {
   "cell_type": "code",
   "execution_count": 3,
   "id": "883da704-feab-4c15-9546-e56059097cc5",
   "metadata": {},
   "outputs": [],
   "source": [
    "import pandas as pd\n",
    "import numpy as np\n",
    "from datetime import datetime as dt"
   ]
  },
  {
   "cell_type": "code",
   "execution_count": 7,
   "id": "8f84a260-b805-4bd6-901b-37c78cce3b31",
   "metadata": {},
   "outputs": [
    {
     "data": {
      "text/plain": [
       "1705725330.0"
      ]
     },
     "execution_count": 7,
     "metadata": {},
     "output_type": "execute_result"
    }
   ],
   "source": [
    "year = 2024\n",
    "month = 1\n",
    "day = 20\n",
    "hour = 10\n",
    "min = 5\n",
    "sec= 30\n",
    "mydate  = dt(year,month,day,hour,min,sec)\n",
    "mydate.timestamp()"
   ]
  },
  {
   "cell_type": "code",
   "execution_count": 24,
   "id": "22a5a521-f990-47ee-9211-697838b013c8",
   "metadata": {},
   "outputs": [],
   "source": [
    "ser = pd.Series([\"Nov 2 2023\",\"2024-01-01\",None])"
   ]
  },
  {
   "cell_type": "code",
   "execution_count": 33,
   "id": "8fa4bd81-08cd-40d1-9c77-83e91a2cd1be",
   "metadata": {},
   "outputs": [
    {
     "data": {
      "text/plain": [
       "0   2023-11-02\n",
       "1   2024-01-01\n",
       "2          NaT\n",
       "dtype: datetime64[ns]"
      ]
     },
     "execution_count": 33,
     "metadata": {},
     "output_type": "execute_result"
    }
   ],
   "source": [
    "time = pd.to_datetime(ser,format=\"mixed\") # in y/m/d format\n",
    "time"
   ]
  },
  {
   "cell_type": "code",
   "execution_count": 38,
   "id": "06a1a540-9a0f-4e95-b6c2-16170dcfba96",
   "metadata": {},
   "outputs": [
    {
     "data": {
      "text/plain": [
       "Timestamp('2023-12-10 00:00:00')"
      ]
     },
     "execution_count": 38,
     "metadata": {},
     "output_type": "execute_result"
    }
   ],
   "source": [
    "euro_date = \"10-12-2023\"\n",
    "pd.to_datetime(euro_date , format=\"%d-%m-%Y\")"
   ]
  },
  {
   "cell_type": "code",
   "execution_count": null,
   "id": "4ea9f697-a02b-4e64-ae8c-77afd054d7bf",
   "metadata": {},
   "outputs": [],
   "source": []
  }
 ],
 "metadata": {
  "kernelspec": {
   "display_name": "Python 3 (ipykernel)",
   "language": "python",
   "name": "python3"
  },
  "language_info": {
   "codemirror_mode": {
    "name": "ipython",
    "version": 3
   },
   "file_extension": ".py",
   "mimetype": "text/x-python",
   "name": "python",
   "nbconvert_exporter": "python",
   "pygments_lexer": "ipython3",
   "version": "3.12.0"
  }
 },
 "nbformat": 4,
 "nbformat_minor": 5
}
