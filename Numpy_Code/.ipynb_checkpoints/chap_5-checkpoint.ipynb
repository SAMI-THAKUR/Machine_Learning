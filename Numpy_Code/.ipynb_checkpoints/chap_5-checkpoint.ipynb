{
 "cells": [
  {
   "cell_type": "code",
   "execution_count": null,
   "id": "9f6f4326-2fa5-4055-b383-254b23a2b455",
   "metadata": {},
   "outputs": [],
   "source": [
    "import numpy as numpy\n",
    "\n",
    "l = [1, 4, 9, 16, 25, 36, 49, 64, 81]\n",
    "\n",
    "n = numpy.array(l)\n",
    "print(n)\n",
    "\n",
    "# Reshape array # 1D to 2D\n",
    "print(\"Reshape array # 1D to 2D\")\n",
    "n2 = n.reshape(3, 3)  # --> 3 rows, 3 columns\n",
    "print(f\"2d array of 3x3\\n{n2}\")\n",
    "# n3 = n.reshape(9, 1)  # --> 9 rows, 1 column\n",
    "# print(f\"2d array of 9x1\\n{n3}\")\n",
    "\n",
    "# Reshape array # 2D to 3D\n",
    "print(\"Reshape array # 2D to 3D\")\n",
    "n4 = numpy.array([[1, 2, 3,8], [4, 5, 6,7]])\n",
    "print(f'2D array\\n{n4}')\n",
    "n5 = n4.reshape(1, 4, 2)  # --> 3D array # 1 row, 4 columns, 2 depth\n",
    "print(f'3D array\\n{n5}')\n",
    "\n",
    "# Reshape array # 3D to 1D\n",
    "print(\"Reshape array # 3D to 1D\")\n",
    "n6 = numpy.array([[[1, 2], [3, 4]], [[5, 6], [7, 8]]])\n",
    "print(f'3D array\\n{n6}')\n",
    "n7 = n6.reshape(-1)  # --> -1 means unknown dimension\n",
    "print(f'1D array\\n{n7}')\n"
   ]
  }
 ],
 "metadata": {
  "kernelspec": {
   "display_name": "Python 3 (ipykernel)",
   "language": "python",
   "name": "python3"
  },
  "language_info": {
   "codemirror_mode": {
    "name": "ipython",
    "version": 3
   },
   "file_extension": ".py",
   "mimetype": "text/x-python",
   "name": "python",
   "nbconvert_exporter": "python",
   "pygments_lexer": "ipython3",
   "version": "3.12.0"
  }
 },
 "nbformat": 4,
 "nbformat_minor": 5
}
