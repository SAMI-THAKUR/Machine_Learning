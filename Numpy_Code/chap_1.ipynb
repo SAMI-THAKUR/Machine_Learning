{
 "cells": [
  {
   "cell_type": "code",
   "execution_count": 24,
   "id": "7df0ac22-d2a4-4d84-9300-2d321b43482d",
   "metadata": {},
   "outputs": [
    {
     "name": "stdout",
     "output_type": "stream",
     "text": [
      "[0 1 2 3 4 5 6 7 8 9]\n",
      "(10,)\n",
      "['SAMI' 'RIZWAN' 'THAKUR']\n",
      "THAKUR\n",
      "[0 1 2 3 4 5 6 7 8]\n",
      "[ 1  2  3  4  5  6  7  8  9 10 11 12 13]\n"
     ]
    }
   ],
   "source": [
    "import numpy as np\n",
    "# Numpy --> Numeric Python\n",
    "# ndarray --> n dimensional array\n",
    "np1 = np.array([0,1,2,3,4,5,6,7,8,9])\n",
    "print(np1)\n",
    "print(np1.shape) # length of array\n",
    "l = [\"SAMI\",\"RIZWAN\",\"THAKUR\"] # python list to numpy array #\n",
    "npl = np.array(l)\n",
    "print(npl)\n",
    "print(npl[2])\n",
    "# print(l[1])\n",
    "# --- arrange func --- #\n",
    "np2 = np.arange(9) # make list from 0 --> l-1\n",
    "print(np2)\n",
    "np3 = np.arange(1,14) # make list from s --> l-1\n",
    "print(np3) \n"
   ]
  },
  {
   "cell_type": "code",
   "execution_count": 17,
   "id": "9de5a742-7566-40fd-94b3-4972c17eb464",
   "metadata": {},
   "outputs": [
    {
     "name": "stdout",
     "output_type": "stream",
     "text": [
      "[0. 0. 0. 0. 0. 0. 0. 0. 0. 0.]\n",
      "[[0. 0. 0. 0. 0.]\n",
      " [0. 0. 0. 0. 0.]\n",
      " [0. 0. 0. 0. 0.]]\n",
      "[3 3 3 3 3 3 3 3 3 3]\n",
      "[[9 9 9 9 9]\n",
      " [9 9 9 9 9]\n",
      " [9 9 9 9 9]]\n"
     ]
    }
   ],
   "source": [
    "# --- zero func --- #\n",
    "np4 = np.zeros(10) # make a list of 0 of size n\n",
    "print(np4)\n",
    "# multi-dimensional #\n",
    "np5 = np.zeros((3,5)) # --> creates 3D array with 5 zero in each dim\n",
    "print(np5)\n",
    "# --- full func --- #\n",
    "np6 = np.full((10),3)\n",
    "print(np6)\n",
    "np7 = np.full((3,5),9)\n",
    "print(np7)"
   ]
  },
  {
   "cell_type": "code",
   "execution_count": null,
   "id": "0a4242e0-b319-4b9c-a6cf-491386b8ecea",
   "metadata": {},
   "outputs": [],
   "source": []
  },
  {
   "cell_type": "code",
   "execution_count": null,
   "id": "dce30b31-673f-4fd2-a0cd-17f5f3c34e3f",
   "metadata": {},
   "outputs": [],
   "source": []
  }
 ],
 "metadata": {
  "kernelspec": {
   "display_name": "Python 3 (ipykernel)",
   "language": "python",
   "name": "python3"
  },
  "language_info": {
   "codemirror_mode": {
    "name": "ipython",
    "version": 3
   },
   "file_extension": ".py",
   "mimetype": "text/x-python",
   "name": "python",
   "nbconvert_exporter": "python",
   "pygments_lexer": "ipython3",
   "version": "3.12.0"
  }
 },
 "nbformat": 4,
 "nbformat_minor": 5
}
